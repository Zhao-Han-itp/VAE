{
 "cells": [
  {
   "cell_type": "markdown",
   "id": "d6261da6",
   "metadata": {},
   "source": [
    "Time : 2021/8/13\n",
    "\n",
    "Author: Zhao Han\n",
    "\n",
    "e-mail: zhaohan@alumni.itp.ac.cn\n"
   ]
  },
  {
   "cell_type": "markdown",
   "id": "76f7ce3b",
   "metadata": {},
   "source": [
    "# Variational auto-encoder\n",
    "\n",
    "# [1] mathematical basic"
   ]
  },
  {
   "cell_type": "markdown",
   "id": "4f2b9fe1",
   "metadata": {},
   "source": [
    "## (1) Preliminary knowledge"
   ]
  },
  {
   "cell_type": "markdown",
   "id": "a20d9da1",
   "metadata": {},
   "source": [
    "$X$ is sample data; $\\theta$ is model parameter; $Z$ is latent variable.\n",
    "\\begin{equation}\n",
    "P(X|\\theta)=\\int_Z P(X,Z|\\theta) dZ\n",
    "\\end{equation}\n",
    "Bayesian formula\n",
    "\\begin{equation}\n",
    "P(Z|X,\\theta)=\\frac{P(Z,X|\\theta)}{P(X|\\theta)}\n",
    "\\end{equation}\n",
    "Let's take the log of both sides of this equation.\n",
    "\\begin{equation}\n",
    "\\log P(Z|X,\\theta)=\\log P(Z,X|\\theta)-\\log P(X|\\theta)\n",
    "\\end{equation}\n",
    "we have,\n",
    "\\begin{equation}\n",
    "\\log P(X|\\theta) = \\log P(Z,X|\\theta) -\\log P(Z|X,\\theta)\n",
    "\\end{equation}"
   ]
  },
  {
   "cell_type": "markdown",
   "id": "993b8903",
   "metadata": {},
   "source": [
    "Add a prior probability distribution $q(Z)$ for the latent variable $Z$.($q(Z)\\neq 0$)\n",
    "\n",
    "\\begin{equation}\n",
    "\\log P(X|\\theta) = \\log \\frac{P(Z,X|\\theta)}{q(Z)} -\\log \\frac{P(Z|X,\\theta)}{q(Z)}\n",
    "\\end{equation}\n",
    "Let's integrate both sides of this equation with $q(Z)$.\n",
    "\\begin{equation}\n",
    "left = \\int_Z q(Z)\\log P(X|\\theta)dZ = \\log P(X|\\theta)\\int_Z q(Z)dZ = \\log P(X|\\theta)\n",
    "\\end{equation}\n",
    "\\begin{equation}\n",
    "right = \\int_Z q(Z)\\log \\frac{P(Z,X|\\theta)}{q(Z)}dZ -\\int_Z q(Z)\\log \\frac{P(Z|X,\\theta)}{q(Z)}dZ\n",
    "\\end{equation}\n",
    "The first term is ELBO(evidence lower bound) and the second term is KL divergence.\n",
    "\\begin{equation}\n",
    "\\log P(X|\\theta) = ELBO +KL(q(Z)||P(Z|X,\\theta))\n",
    "\\end{equation}\n",
    "\n",
    "The VAE purpose is to approximate the real distribution $p$ by using the $q$ obtained by neural network training."
   ]
  },
  {
   "cell_type": "markdown",
   "id": "69924e20",
   "metadata": {},
   "source": [
    "## (2) How to get the loss function?"
   ]
  },
  {
   "cell_type": "markdown",
   "id": "92dc44b2",
   "metadata": {},
   "source": [
    "Calculate the loss. Note that the loss includes two parts.\n",
    "1. the reconstruction loss. We regard the MNIST as binary classification.\n",
    "2. the KL divergence. We think the prior and variational inference function are Gaussian distribution."
   ]
  },
  {
   "cell_type": "markdown",
   "id": "2b32a832",
   "metadata": {},
   "source": [
    "Loss function = $KL(q(Z)||P(Z|X,\\theta))$\n",
    "\n",
    "\\begin{equation}\n",
    "\\langle \\phi^* ,\\theta^* \\rangle = \\arg\\min_{\\theta} KL(q_{\\phi}(Z)||P(Z|X,\\theta))\n",
    "\\end{equation}"
   ]
  },
  {
   "cell_type": "markdown",
   "id": "13b92b57",
   "metadata": {},
   "source": [
    "\\begin{equation}\n",
    "KL(q_{\\phi}(Z)||P(Z|X,\\theta)) = \\int_{q(Z)}q(Z)\\log \\frac{q(Z)}{P(Z|X,\\theta)}dZ\n",
    "\\end{equation}\n",
    "\\begin{equation}\n",
    "= \\int_{q(Z)}q(Z)\\log q(Z)dZ - \\int_{q(Z)}q(Z)\\log P(Z|X,\\theta)dZ \n",
    "\\end{equation}\n",
    "\\begin{equation}\n",
    "= \\int_{q(Z)}q(Z)\\log q(Z)dZ - \\int_{q(Z)}q(Z)\\log \\frac{P(X|Z,\\theta)P(Z,\\theta)}{P(X|\\theta)}dZ \n",
    "\\end{equation}\n",
    "\\begin{equation}\n",
    "= \\int_{q(Z)}q(Z)\\log q(Z)dZ - \\int_{q(Z)}q(Z)\\log P(X|Z,\\theta)dZ - \\int_{q(Z)}q(Z)\\log P(Z,\\theta)dZ + \\int_{q(Z)}q(Z)\\log P(X|\\theta)dZ \n",
    "\\end{equation}\n",
    "\\begin{equation}\n",
    "= \\int_{q(Z)}q(Z)\\log q(Z)dZ - \\int_{q(Z)}q(Z)\\log P(X|Z,\\theta)dZ - \\int_{q(Z)}q(Z)\\log P(Z,\\theta)dZ  + \\log P(X|\\theta)\n",
    "\\end{equation}"
   ]
  },
  {
   "cell_type": "markdown",
   "id": "6273ee53",
   "metadata": {},
   "source": [
    "\\begin{equation}\n",
    "= \\int_{q(Z)}q(Z)\\log\\frac{q(Z)}{P(Z,\\theta)}dZ - \\int_{q(Z)}q(Z)\\log P(X|Z,\\theta)dZ + \\log P(X|\\theta)\n",
    "\\end{equation}\n",
    "\\begin{equation}\n",
    "= KL(q(Z)||P(Z|\\theta)) - E_{q(Z)}[\\log P(X|Z,\\theta)] + \\log P(X|\\theta)\n",
    "\\end{equation}"
   ]
  },
  {
   "cell_type": "markdown",
   "id": "af347ede",
   "metadata": {},
   "source": [
    "because the $P(X|\\theta)$ is a constant, we can get the loss function as follow:\n",
    "\n",
    "\\begin{equation}\n",
    "loss = - E_{q(Z)}[\\log P(X|Z,\\theta)] + KL(q(Z)||P(Z|\\theta))\n",
    "\\end{equation}\n",
    "\n",
    "We  have a fact $q(Z)=q(Z|X)$\n",
    "\n",
    "\\begin{equation}\n",
    "loss = - E_{q(Z|X)}[\\log P(X|Z,\\theta)] + KL(q(Z|X)||P(Z|\\theta))\n",
    "\\end{equation}\n",
    "\n",
    "The first term is the reconstruction error, which is usually written as a cross entropy function. From the mathematical expression, we can see that $Z$ can be obtained by sampling the known sample $X$, and then $X$ can be obtained by sampling and reconstruction through $Z$, and finally the expectation can be calculated. Of course, we want the expected value to be as high as possible, that is, the result obtained by reconstruction is the same as the original sample."
   ]
  },
  {
   "cell_type": "markdown",
   "id": "2b7fcc3b",
   "metadata": {},
   "source": [
    "Here we think the prior and variational function both are Gaussian distribution.\n",
    "$z$ represents a component of the latent variable, and $x$ represents a sample of the sample set $X$.\n",
    "\\begin{align}\n",
    "P(z|\\mu_P,\\sigma_P)&=\\frac{1}{\\sqrt{2\\pi\\sigma_P^2}}exp(-\\frac{(z-\\mu_P)^2}{2\\sigma_P^2})\\\\\n",
    "q(z|x,\\mu_q,\\sigma_q)&=\\frac{1}{\\sqrt{2\\pi\\sigma_q^2}}exp(-\\frac{(z-\\mu_q)^2}{2\\sigma_q^2})\\\\\n",
    "\\end{align}"
   ]
  },
  {
   "cell_type": "markdown",
   "id": "4a76d550",
   "metadata": {},
   "source": [
    "$\\mu_P,\\sigma_P$ is the parameter of prior distribution, which is a constant. $\\mu_q,\\sigma_q$ is calculated by the encoder, which is also constant in the loss calculation of a single sample."
   ]
  },
  {
   "cell_type": "markdown",
   "id": "a9e0d5a4",
   "metadata": {},
   "source": [
    "The second term:\n",
    "\\begin{align}\n",
    "KL(q(z|x,\\mu_q,\\sigma_q)||P(z|\\mu_P,\\sigma_P)) &= \\int_{q(z)}q(z)\\log\\frac{q(z)}{P(z,\\theta)}dz\\\\\n",
    "&= \\int \\frac{1}{\\sqrt{2\\pi\\sigma_q^2}}exp(-\\frac{(z-\\mu_q)^2}{2\\sigma_q^2}) \\log\\frac{\\frac{1}{\\sqrt{2\\pi\\sigma_q^2}}exp(-\\frac{(z-\\mu_q)^2}{2\\sigma_q^2})}{\\frac{1}{\\sqrt{2\\pi\\sigma_P^2}}exp(-\\frac{(z-\\mu_P)^2}{2\\sigma_P^2})}dz \\\\\n",
    "&= \\int \\frac{1}{\\sqrt{2\\pi\\sigma_q^2}}exp(-\\frac{(z-\\mu_q)^2}{2\\sigma_q^2}) \\times \\{-\\frac{1}{2}\\log(2\\pi)-\\log(\\sigma_q) - \\frac{(z-\\mu_q)^2}{2\\sigma_q^2}+\\frac{1}{2}\\log(2\\pi) + \\log(\\sigma_P) + \\frac{(z-\\mu_P)^2}{2\\sigma_P^2} \\}dz \\\\\n",
    "&= \\int \\frac{1}{\\sqrt{2\\pi\\sigma_q^2}}exp(-\\frac{(z-\\mu_q)^2}{2\\sigma_q^2}) \\times \\{- \\frac{(z-\\mu_q)^2}{2\\sigma_q^2} + \\log(\\frac{\\sigma_P}{\\sigma_q}) + \\frac{(z-\\mu_P)^2}{2\\sigma_P^2} \\}dz\n",
    "\\end{align}"
   ]
  },
  {
   "cell_type": "markdown",
   "id": "5f97ca93",
   "metadata": {},
   "source": [
    "\\begin{align}\n",
    "&=E_{q(z)}\\{- \\frac{(z-\\mu_q)^2}{2\\sigma_q^2} + \\log(\\frac{\\sigma_P}{\\sigma_q}) + \\frac{(z-\\mu_P)^2}{2\\sigma_P^2} \\}\\\\\n",
    "&= \\log(\\frac{\\sigma_P}{\\sigma_q}) - \\frac{1}{2\\sigma_q^2}E_{q(z)}\\{(z-\\mu_q)^2 \\} + \\frac{1}{2\\sigma_P^2}E_{q(z)}\\{(z-\\mu_P)^2 \\} \\\\\n",
    "\\end{align}\n",
    "\n",
    "because $\\sigma^2_q = E_{q(z)}\\{(z-\\mu_q)^2$\\}\n",
    "\n",
    "\\begin{align}\n",
    "&= \\log(\\frac{\\sigma_P}{\\sigma_q}) - \\frac{\\sigma^2_q}{2\\sigma_q^2}+ \\frac{1}{2\\sigma_P^2}E_{q(z)}\\{(z-\\mu_P)^2 \\} \\\\\n",
    "&= \\log(\\frac{\\sigma_P}{\\sigma_q}) - \\frac{1}{2}+ \\frac{1}{2\\sigma_P^2}E_{q(z)}\\{(z-\\mu_q+\\mu_q-\\mu_P)^2 \\} \\\\\n",
    "&= \\log(\\frac{\\sigma_P}{\\sigma_q}) - \\frac{1}{2}+ \\frac{1}{2\\sigma_P^2}E_{q(z)}\\{(z-\\mu_q)^2+(\\mu_q-\\mu_P)^2+2(z-\\mu_q)(\\mu_q-\\mu_P) \\} \\\\\n",
    "&= \\log(\\frac{\\sigma_P}{\\sigma_q}) - \\frac{1}{2}+ \\frac{1}{2\\sigma_P^2}E_{q(z)}\\{(z-\\mu_q)^2\\} + E_{q(z)}\\{(\\mu_q-\\mu_P)^2\\} + 2 E_{q(z)}\\{(z-\\mu_q)(\\mu_q-\\mu_P) \\} \\\\\n",
    "&= \\log(\\frac{\\sigma_P}{\\sigma_q}) - \\frac{1}{2}+ \\frac{1}{2\\sigma_P^2}\\{\\sigma_q^2 + (\\mu_q-\\mu_P)^2 + 2* 0 *(\\mu_q-\\mu_P) \\} \\\\\n",
    "&= \\log(\\frac{\\sigma_P}{\\sigma_q}) - \\frac{1}{2}+ \\frac{\\sigma_q^2 + (\\mu_q-\\mu_P)^2}{2\\sigma_P^2} \\\\\n",
    "\\end{align}"
   ]
  },
  {
   "cell_type": "markdown",
   "id": "df54e255",
   "metadata": {},
   "source": [
    "let the $\\mu_P=0, \\sigma_P = 1$"
   ]
  },
  {
   "cell_type": "markdown",
   "id": "fc52a387",
   "metadata": {},
   "source": [
    "Finally, the second term\n",
    "\\begin{align}\n",
    "&= \\log(\\frac{\\sigma_P}{\\sigma_q}) - \\frac{1}{2}+ \\frac{\\sigma_q^2 + (\\mu_q-\\mu_P)^2}{2\\sigma_P^2} \\\\\n",
    "&= \\log(\\frac{1}{\\sigma_q}) - \\frac{1}{2}+ \\frac{\\sigma_q^2 + \\mu_q^2}{2} \\\\\n",
    "&= -\\frac{1}{2}[\\log(\\sigma_q^2) +1 - \\sigma_q^2 - \\mu_q^2]\n",
    "\\end{align}"
   ]
  },
  {
   "cell_type": "markdown",
   "id": "e6aa1001",
   "metadata": {},
   "source": [
    "# [2] The network structure"
   ]
  },
  {
   "cell_type": "markdown",
   "id": "dc128e73",
   "metadata": {},
   "source": [
    "![1](structure.jpg)"
   ]
  },
  {
   "cell_type": "markdown",
   "id": "0a6f1461",
   "metadata": {},
   "source": [
    "![2](structure2.png)"
   ]
  },
  {
   "cell_type": "markdown",
   "id": "c8c204d5",
   "metadata": {},
   "source": [
    "![3](structure3.png)"
   ]
  },
  {
   "cell_type": "markdown",
   "id": "5683c5b9",
   "metadata": {},
   "source": [
    "![4](structure4.jpg)"
   ]
  },
  {
   "cell_type": "markdown",
   "id": "52f552ea",
   "metadata": {},
   "source": [
    "## reparameter trick\n",
    "![reparameter trick](reparameter1.png)\n",
    "\n",
    "![reparameter trick](reparameter.png)"
   ]
  },
  {
   "cell_type": "markdown",
   "id": "92b35359",
   "metadata": {},
   "source": [
    "## our proposal\n",
    "![DKL ](DKL.jpg)"
   ]
  },
  {
   "cell_type": "markdown",
   "id": "7790e12a",
   "metadata": {},
   "source": [
    "# [3] code\n",
    "\n",
    "For a batch of samples, each sample is stored as a $\\color{red} {row\\  vector}$ in the network.\n",
    "\n",
    "If you want to repeat the model, you can use the check point.(modify the hyper-parameter resume to the dir)"
   ]
  },
  {
   "cell_type": "markdown",
   "id": "2ec3fbd8",
   "metadata": {},
   "source": [
    "## (1)VAE"
   ]
  },
  {
   "cell_type": "code",
   "execution_count": 74,
   "id": "62e65a7c",
   "metadata": {},
   "outputs": [],
   "source": [
    "import numpy as np\n",
    "import matplotlib.pyplot as plt\n",
    "import torchvision\n",
    "from torchvision import transforms\n",
    "from torch.utils.data.dataloader import DataLoader\n",
    "from torchsummary import summary"
   ]
  },
  {
   "cell_type": "code",
   "execution_count": 80,
   "id": "5abe7020",
   "metadata": {},
   "outputs": [],
   "source": [
    "import torch\n",
    "import torch.nn as  nn\n",
    "import torch.nn.functional as F\n",
    "import torch.optim as  optim\n",
    "from torchvision.utils import save_image\n",
    "import os\n",
    "import shutil\n",
    "import numpy as np"
   ]
  },
  {
   "cell_type": "code",
   "execution_count": 82,
   "id": "288d689b",
   "metadata": {},
   "outputs": [],
   "source": [
    "# hyper-parameter\n",
    "BATCH_SIZE = 128\n",
    "NUM_WORKERS = 1\n",
    "\n",
    "result_dir = './VAEresult' # './VAEresult'  result dir\n",
    "save_dir = './ckpt' # model saving directory\n",
    "batch_size = 128 # input batch size for training (default: 128)\n",
    "epochs = 50 # number of epochs to train (default: 10)\n",
    "seed = 1 # random seed (default: 1)\n",
    "resume = None #path to latest checkpoint (default: None)\n",
    "test_every = 10 # test after every epochs\n",
    "num_worker = 1 # num_worker"
   ]
  },
  {
   "cell_type": "code",
   "execution_count": 77,
   "id": "102629d4",
   "metadata": {},
   "outputs": [],
   "source": [
    "def prepare_MNIST(batch_size=BATCH_SIZE, num_workers=NUM_WORKERS):\n",
    "\ttransform = transforms.Compose([transforms.ToTensor(),])\n",
    "\n",
    "\ttraining_set = torchvision.datasets.MNIST(\"../data\", train=True, download=True, transform=transform)\n",
    "\ttest_set = torchvision.datasets.MNIST(\"../data\", train=False, download=True, transform=transform)\n",
    "\t# num_workers denotes how many subprocesses to use for data loading\n",
    "\ttrainloader = DataLoader(training_set, batch_size=batch_size, shuffle=True, num_workers=num_workers)\n",
    "\ttestloader = DataLoader(test_set, batch_size=batch_size, shuffle=True, num_workers=num_workers)\n",
    "\n",
    "\tclssses = ('0', '1', '2', '3', '4', '5', '6', '7', '8', '9')\n",
    "\treturn trainloader, testloader, clssses\n",
    "\n",
    "\n",
    "def imshow(img):\n",
    "\t# img = img / 2 + 0.5  # unnormalize\n",
    "\tnpimg = img.numpy()\n",
    "\tplt.imshow(np.transpose(npimg, (1, 2, 0)))\n",
    "\tplt.show()"
   ]
  },
  {
   "cell_type": "code",
   "execution_count": 78,
   "id": "cf849d4e",
   "metadata": {},
   "outputs": [
    {
     "name": "stdout",
     "output_type": "stream",
     "text": [
      "Downloading http://yann.lecun.com/exdb/mnist/train-images-idx3-ubyte.gz\n",
      "Failed to download (trying next):\n",
      "<urlopen error [Errno 11002] getaddrinfo failed>\n",
      "\n",
      "Downloading https://ossci-datasets.s3.amazonaws.com/mnist/train-images-idx3-ubyte.gz\n",
      "Downloading https://ossci-datasets.s3.amazonaws.com/mnist/train-images-idx3-ubyte.gz to ./dataset\\MNIST\\raw\\train-images-idx3-ubyte.gz\n"
     ]
    },
    {
     "data": {
      "application/vnd.jupyter.widget-view+json": {
       "model_id": "b81dd7cbf71b493eb88edb61bc75a1d4",
       "version_major": 2,
       "version_minor": 0
      },
      "text/plain": [
       "  0%|          | 0/9912422 [00:00<?, ?it/s]"
      ]
     },
     "metadata": {},
     "output_type": "display_data"
    },
    {
     "name": "stdout",
     "output_type": "stream",
     "text": [
      "Extracting ./dataset\\MNIST\\raw\\train-images-idx3-ubyte.gz to ./dataset\\MNIST\\raw\n",
      "\n",
      "Downloading http://yann.lecun.com/exdb/mnist/train-labels-idx1-ubyte.gz\n",
      "Failed to download (trying next):\n",
      "<urlopen error [Errno 11002] getaddrinfo failed>\n",
      "\n",
      "Downloading https://ossci-datasets.s3.amazonaws.com/mnist/train-labels-idx1-ubyte.gz\n",
      "Downloading https://ossci-datasets.s3.amazonaws.com/mnist/train-labels-idx1-ubyte.gz to ./dataset\\MNIST\\raw\\train-labels-idx1-ubyte.gz\n"
     ]
    },
    {
     "data": {
      "application/vnd.jupyter.widget-view+json": {
       "model_id": "da43b6147da548ad87bc432b353d26f5",
       "version_major": 2,
       "version_minor": 0
      },
      "text/plain": [
       "  0%|          | 0/28881 [00:00<?, ?it/s]"
      ]
     },
     "metadata": {},
     "output_type": "display_data"
    },
    {
     "name": "stdout",
     "output_type": "stream",
     "text": [
      "Extracting ./dataset\\MNIST\\raw\\train-labels-idx1-ubyte.gz to ./dataset\\MNIST\\raw\n",
      "\n",
      "Downloading http://yann.lecun.com/exdb/mnist/t10k-images-idx3-ubyte.gz\n",
      "Failed to download (trying next):\n",
      "<urlopen error [Errno 11002] getaddrinfo failed>\n",
      "\n",
      "Downloading https://ossci-datasets.s3.amazonaws.com/mnist/t10k-images-idx3-ubyte.gz\n",
      "Downloading https://ossci-datasets.s3.amazonaws.com/mnist/t10k-images-idx3-ubyte.gz to ./dataset\\MNIST\\raw\\t10k-images-idx3-ubyte.gz\n"
     ]
    },
    {
     "data": {
      "application/vnd.jupyter.widget-view+json": {
       "model_id": "32993536f824419093dd612288361915",
       "version_major": 2,
       "version_minor": 0
      },
      "text/plain": [
       "  0%|          | 0/1648877 [00:00<?, ?it/s]"
      ]
     },
     "metadata": {},
     "output_type": "display_data"
    },
    {
     "name": "stdout",
     "output_type": "stream",
     "text": [
      "Extracting ./dataset\\MNIST\\raw\\t10k-images-idx3-ubyte.gz to ./dataset\\MNIST\\raw\n",
      "\n",
      "Downloading http://yann.lecun.com/exdb/mnist/t10k-labels-idx1-ubyte.gz\n",
      "Failed to download (trying next):\n",
      "<urlopen error [Errno 11002] getaddrinfo failed>\n",
      "\n",
      "Downloading https://ossci-datasets.s3.amazonaws.com/mnist/t10k-labels-idx1-ubyte.gz\n",
      "Downloading https://ossci-datasets.s3.amazonaws.com/mnist/t10k-labels-idx1-ubyte.gz to ./dataset\\MNIST\\raw\\t10k-labels-idx1-ubyte.gz\n"
     ]
    },
    {
     "data": {
      "application/vnd.jupyter.widget-view+json": {
       "model_id": "b06376edcc674cdf9e34316874710469",
       "version_major": 2,
       "version_minor": 0
      },
      "text/plain": [
       "  0%|          | 0/4542 [00:00<?, ?it/s]"
      ]
     },
     "metadata": {},
     "output_type": "display_data"
    },
    {
     "name": "stdout",
     "output_type": "stream",
     "text": [
      "Extracting ./dataset\\MNIST\\raw\\t10k-labels-idx1-ubyte.gz to ./dataset\\MNIST\\raw\n",
      "\n"
     ]
    },
    {
     "data": {
      "image/png": "[encoded data removed]",
      "text/plain": [
       "<Figure size 432x288 with 1 Axes>"
      ]
     },
     "metadata": {
      "needs_background": "light"
     },
     "output_type": "display_data"
    }
   ],
   "source": [
    "trainloader, testloader, classes = prepare_MNIST()\n",
    "data_iter = iter(trainloader)\n",
    "imgs, labels = data_iter.next()\n",
    "imshow(torchvision.utils.make_grid(imgs, nrow=16))"
   ]
  },
  {
   "cell_type": "code",
   "execution_count": 79,
   "id": "b4d4f7d3",
   "metadata": {},
   "outputs": [],
   "source": [
    "class VAE(nn.Module):\n",
    "\tdef __init__(self, input_dim=784, h_dim=400, z_dim=20):\n",
    "\t\tsuper(VAE, self).__init__()\n",
    "\t\t# encoder part\n",
    "\t\tself.fc1 = nn.Linear(input_dim, h_dim)\n",
    "\t\tself.fc2 = nn.Linear(h_dim, z_dim)  # mu\n",
    "\t\tself.fc3 = nn.Linear(h_dim, z_dim)  # log_sigma\n",
    "\n",
    "\t\t# decoder part\n",
    "\t\tself.fc4 = nn.Linear(z_dim, h_dim)\n",
    "\t\tself.fc5 = nn.Linear(h_dim, input_dim)\n",
    "\n",
    "\tdef forward(self, x):\n",
    "\t\tmu, log_sigma = self.encode(x)\n",
    "\t\tsampled_z = self.reparameterzie(mu, log_sigma)\n",
    "\t\tres = self.decode(sampled_z)\n",
    "\n",
    "\t\treturn res, mu, log_sigma\n",
    "\n",
    "\tdef encode(self, x):\n",
    "\t\t\"\"\"\n",
    "\t\tencoding part.\n",
    "\t\t:param x: input image\n",
    "\t\t:return: mu and log_(sigma**2)\n",
    "\t\t\"\"\"\n",
    "\t\th = F.relu(self.fc1(x))\n",
    "\t\tmu = self.fc2(h)\n",
    "\t\tlog_sigma = self.fc3(h)  # estimate log(sigma**2) actually\n",
    "\t\treturn mu, log_sigma\n",
    "\n",
    "\tdef reparameterzie(self, mu, log_sigma):\n",
    "\t\t\"\"\"\n",
    "\t\tGiven a standard gaussian distribution epsilon ~ N(0,1),\n",
    "\t\twe can sample the random variable z as per z = mu + sigma * epsilon\n",
    "\t\t:param mu:\n",
    "\t\t:param log_sigma:\n",
    "\t\t:return: sampled z\n",
    "\t\t\"\"\"\n",
    "\t\tstd = torch.exp(log_sigma * 0.5)\n",
    "\t\teps = torch.randn_like(std)\n",
    "\t\treturn mu + std * eps\n",
    "\n",
    "\tdef decode(self, x):\n",
    "\t\t\"\"\"\n",
    "\t\tGiven a sampled z, decode it back to image\n",
    "\t\t:param x:\n",
    "\t\t:return:\n",
    "\t\t\"\"\"\n",
    "\t\th = F.relu(self.fc4(x))\n",
    "\t\tres = torch.sigmoid(self.fc5(h))\n",
    "\t\treturn res"
   ]
  },
  {
   "cell_type": "code",
   "execution_count": 81,
   "id": "534f2530",
   "metadata": {},
   "outputs": [
    {
     "name": "stdout",
     "output_type": "stream",
     "text": [
      "cuda\n"
     ]
    }
   ],
   "source": [
    "cuda = torch.cuda.is_available()\n",
    "device = torch.device(\"cuda\" if cuda else \"cpu\")\n",
    "print(device)"
   ]
  },
  {
   "cell_type": "code",
   "execution_count": 83,
   "id": "6e147c7b",
   "metadata": {},
   "outputs": [],
   "source": [
    "def save_checkpoint(state, is_best, outdir):\n",
    "\n",
    "\tif not os.path.exists(outdir):\n",
    "\t\tos.makedirs(outdir)\n",
    "\n",
    "\tcheckpoint_file = os.path.join(outdir, 'checkpoint.pth')\n",
    "\tbest_file = os.path.join(outdir, 'model_best.pth')\n",
    "\ttorch.save(state, checkpoint_file)\n",
    "\tif is_best:\n",
    "\t\tshutil.copyfile(checkpoint_file, best_file)"
   ]
  },
  {
   "cell_type": "markdown",
   "id": "755a4948",
   "metadata": {},
   "source": [
    "Finally, the second term\n",
    "\\begin{align}\n",
    "&= \\log(\\frac{\\sigma_P}{\\sigma_q}) - \\frac{1}{2}+ \\frac{\\sigma_q^2 + (\\mu_q-\\mu_P)^2}{2\\sigma_P^2} \\\\\n",
    "&= \\log(\\frac{1}{\\sigma_q}) - \\frac{1}{2}+ \\frac{\\sigma_q^2 + \\mu_q^2}{2} \\\\\n",
    "&= -\\frac{1}{2}[\\log(\\sigma_q^2) +1 - \\sigma_q^2 - \\mu_q^2] \\\\\n",
    "&= \\frac{1}{2}[\\sigma_q^2 + \\mu_q^2 -1 - \\log(\\sigma_q^2) ]\n",
    "\\end{align}"
   ]
  },
  {
   "cell_type": "code",
   "execution_count": null,
   "id": "0aea464d",
   "metadata": {},
   "outputs": [],
   "source": [
    "def loss_func(recon_x, inputs, mu, log_var):\n",
    "\t# Calculate the loss. Note that the loss includes two parts.\n",
    "\t# 1. the reconstruction loss.\n",
    "\t# We regard the MNIST as binary classification\n",
    "\treconstruction_loss = F.binary_cross_entropy(recon_x, inputs, reduction='sum')\n",
    "\n",
    "\t# 2. KL-divergence\n",
    "\t# D_KL(Q(z|X) || P(z)); calculate in closed form as both dist. are Gaussian\n",
    "\tdivergence = 0.5 * torch.sum(torch.exp(log_var) + torch.pow(mu, 2) - 1. - log_var)\n",
    "\n",
    "\tloss = reconstruction_loss + divergence\n",
    "\n",
    "\treturn loss, reconstruction_loss, divergence"
   ]
  },
  {
   "cell_type": "code",
   "execution_count": 85,
   "id": "e95cc2f0",
   "metadata": {},
   "outputs": [
    {
     "name": "stdout",
     "output_type": "stream",
     "text": [
      "2.220446049250313e-16 <class 'numpy.float64'>\n",
      "[2.22044605e-16 2.00000000e+00 3.00000000e+00]\n",
      "[4.50359963e+15 1.00000000e+00 1.00000000e+00]\n"
     ]
    }
   ],
   "source": [
    "'''\n",
    "np.finfo使用方法\n",
    "    eps是一个很小的非负数\n",
    "    除法的分母不能为0的,不然会直接跳出显示错误。\n",
    "    使用eps将可能出现的零用eps来替换，这样不会报错。\n",
    "'''\n",
    "x = np.array([1, 2, 3], dtype=float)\n",
    "eps = np.finfo(x.dtype).eps  # eps = 2.220446049250313e-16 type = <class 'numpy.float64'>\n",
    "print(eps, type(eps))\n",
    "height = np.array([0, 2, 3], dtype=float)\n",
    "height = np.maximum(height, eps) #一旦height中出现0，就用eps进行替换\n",
    "print(height)   #[2.22044605e-16 2.00000000e+00 3.00000000e+00]\n",
    "dy = x / height\n",
    "print(dy)   #[4.50359963e+15 1.00000000e+00 1.00000000e+00]"
   ]
  },
  {
   "cell_type": "code",
   "execution_count": 88,
   "id": "889c1875",
   "metadata": {},
   "outputs": [],
   "source": [
    "lr = 1e-3 # learning rate\n",
    "z_dim = 20 # latent vector size of encoder\n",
    "input_dim = 28*28 #input dimension (28*28 for MNIST)\n",
    "h_dim = 400 \n",
    "input_channel = 1 #input channel (1 for MNIST)"
   ]
  },
  {
   "cell_type": "code",
   "execution_count": 102,
   "id": "aecd3104",
   "metadata": {},
   "outputs": [],
   "source": [
    "def train():\n",
    "    #myVAE = ConvVAE(input_channels=args.input_channel, z_dim=args.z_dim).to(device)\n",
    "    myVAE = VAE(input_dim, h_dim, z_dim).to(device)\n",
    "    optimizer = optim.Adam(myVAE.parameters(), lr=lr)\n",
    "\n",
    "    start_epoch = 0\n",
    "    best_test_loss = np.finfo('f').max\n",
    "\n",
    "    # optionally resume from a checkpoint\n",
    "    if resume:\n",
    "        if os.path.isfile(resume):\n",
    "            print('=> loading checkpoint %s' % resume)\n",
    "            checkpoint = torch.load(resume)\n",
    "            start_epoch = checkpoint['epoch'] + 1\n",
    "            best_test_loss = checkpoint['best_test_loss']\n",
    "            myVAE.load_state_dict(checkpoint['state_dict'])\n",
    "            optimizer.load_state_dict(checkpoint['optimizer'])\n",
    "            print('=> loaded checkpoint %s' % resume)\n",
    "        else:\n",
    "            print('=> no checkpoint found at %s' % resume)\n",
    "\n",
    "    if not os.path.exists(result_dir):\n",
    "        os.makedirs(result_dir)\n",
    "\n",
    "    trainloader, testloader, classes = prepare_MNIST(batch_size, num_worker)\n",
    "\n",
    "\n",
    "    # training\n",
    "    for epoch in range(start_epoch, epochs):\n",
    "\n",
    "        for i, data in enumerate(trainloader):\n",
    "            # get the inputs; data is a list of [inputs, labels]\n",
    "            # Remember to deploy the input data on GPU\n",
    "            inputs = data[0].to(device)\n",
    "            inputs = inputs.view(-1, input_dim)\n",
    "            # forward\n",
    "            res, mu, log_sigma = myVAE(inputs)\n",
    "\n",
    "            loss, recon_loss, KLD = loss_func(res, inputs, mu, log_sigma)\n",
    "            # zero out the paramter gradients\n",
    "            optimizer.zero_grad()\n",
    "            loss.backward()\n",
    "            optimizer.step()\n",
    "\n",
    "            # print statistics every 100 batches\n",
    "            if (i + 1) % 100 == 0:\n",
    "                print(\"Epoch[{}/{}], Step [{}/{}], Reconst Loss: {:.4f}, KL Div: {:.4f} Total loss {:.4f}\"\n",
    "                      .format(epoch + 1, epochs, i + 1, len(trainloader), recon_loss.item(),\n",
    "                              KLD.item(), loss.item()))\n",
    "\n",
    "            if i == 0:\n",
    "                # visualize reconstructed result at the beginning of each epoch\n",
    "                x_concat = torch.cat([inputs.view(-1, 1, 28, 28), res.view(-1, 1, 28, 28)], dim=3)\n",
    "                save_image(x_concat, (\"./%s/reconstructed-%d.png\" % (result_dir, epoch + 1)))\n",
    "\n",
    "        # testing\n",
    "        if (epoch + 1) % test_every == 0:\n",
    "            test_avg_loss = 0.0\n",
    "            with torch.no_grad():\n",
    "                for idx, test_data in enumerate(testloader):\n",
    "                    # get the inputs; data is a list of [inputs, labels]\n",
    "                    test_inputs = test_data[0].to(device)\n",
    "                    test_inputs = test_inputs.view(-1, input_dim)\n",
    "                    # forward\n",
    "                    test_res, test_mu, test_log_sigma = myVAE(test_inputs)\n",
    "\n",
    "                    test_loss, test_recon_loss, test_KLD = loss_func(test_res, test_inputs, test_mu, test_log_sigma)\n",
    "\n",
    "                    test_avg_loss += test_loss\n",
    "\n",
    "                test_avg_loss /= len(testloader.dataset)\n",
    "\n",
    "                # we randomly sample some images' latent vectors from its distribution\n",
    "                z = torch.randn(batch_size, z_dim).to(device)\n",
    "                random_res = myVAE.decode(z).view(-1, 1, 28, 28)\n",
    "                save_image(random_res, \"./%s/random_sampled-%d.png\" % (result_dir, epoch + 1))\n",
    "\n",
    "                # save model\n",
    "                is_best = test_avg_loss < best_test_loss\n",
    "                best_test_loss = min(test_avg_loss, best_test_loss)\n",
    "                save_checkpoint({\n",
    "                    'epoch': epoch,\n",
    "                    'best_test_loss': best_test_loss,\n",
    "                    'state_dict': myVAE.state_dict(),\n",
    "                    'optimizer': optimizer.state_dict(),\n",
    "                }, is_best,save_dir)"
   ]
  },
  {
   "cell_type": "code",
   "execution_count": 103,
   "id": "f85d486d",
   "metadata": {},
   "outputs": [
    {
     "name": "stderr",
     "output_type": "stream",
     "text": [
      "D:\\anaconda3\\lib\\site-packages\\torch\\nn\\functional.py:1805: UserWarning: nn.functional.sigmoid is deprecated. Use torch.sigmoid instead.\n",
      "  warnings.warn(\"nn.functional.sigmoid is deprecated. Use torch.sigmoid instead.\")\n"
     ]
    },
    {
     "name": "stdout",
     "output_type": "stream",
     "text": [
      "Epoch[1/50], Step [100/469], Reconst Loss: 21606.2734, KL Div: 1202.8851 Total loss 22809.1582\n",
      "Epoch[1/50], Step [200/469], Reconst Loss: 18060.4023, KL Div: 1963.9102 Total loss 20024.3125\n",
      "Epoch[1/50], Step [300/469], Reconst Loss: 15766.8418, KL Div: 2265.4927 Total loss 18032.3340\n",
      "Epoch[1/50], Step [400/469], Reconst Loss: 14997.1738, KL Div: 2449.9663 Total loss 17447.1406\n",
      "Epoch[2/50], Step [100/469], Reconst Loss: 13737.1016, KL Div: 2833.0530 Total loss 16570.1543\n",
      "Epoch[2/50], Step [200/469], Reconst Loss: 12486.8398, KL Div: 2799.7402 Total loss 15286.5801\n",
      "Epoch[2/50], Step [300/469], Reconst Loss: 12383.4219, KL Div: 2869.5176 Total loss 15252.9395\n",
      "Epoch[2/50], Step [400/469], Reconst Loss: 12164.8174, KL Div: 2907.5793 Total loss 15072.3965\n",
      "Epoch[3/50], Step [100/469], Reconst Loss: 11766.1025, KL Div: 3021.1660 Total loss 14787.2686\n",
      "Epoch[3/50], Step [200/469], Reconst Loss: 12211.3027, KL Div: 3028.1709 Total loss 15239.4736\n",
      "Epoch[3/50], Step [300/469], Reconst Loss: 11722.3965, KL Div: 3172.4290 Total loss 14894.8252\n",
      "Epoch[3/50], Step [400/469], Reconst Loss: 11244.6826, KL Div: 3107.7183 Total loss 14352.4004\n",
      "Epoch[4/50], Step [100/469], Reconst Loss: 11202.4648, KL Div: 3076.8706 Total loss 14279.3359\n",
      "Epoch[4/50], Step [200/469], Reconst Loss: 10861.7529, KL Div: 2976.4443 Total loss 13838.1973\n",
      "Epoch[4/50], Step [300/469], Reconst Loss: 10460.4541, KL Div: 3112.2061 Total loss 13572.6602\n",
      "Epoch[4/50], Step [400/469], Reconst Loss: 11242.9180, KL Div: 3097.8474 Total loss 14340.7656\n",
      "Epoch[5/50], Step [100/469], Reconst Loss: 10929.4844, KL Div: 3087.5142 Total loss 14016.9980\n",
      "Epoch[5/50], Step [200/469], Reconst Loss: 10219.8984, KL Div: 3090.0659 Total loss 13309.9648\n",
      "Epoch[5/50], Step [300/469], Reconst Loss: 10841.8369, KL Div: 3077.9194 Total loss 13919.7559\n",
      "Epoch[5/50], Step [400/469], Reconst Loss: 11133.5156, KL Div: 3131.7998 Total loss 14265.3154\n",
      "Epoch[6/50], Step [100/469], Reconst Loss: 10563.4922, KL Div: 3067.2417 Total loss 13630.7344\n",
      "Epoch[6/50], Step [200/469], Reconst Loss: 10758.8848, KL Div: 3115.7712 Total loss 13874.6562\n",
      "Epoch[6/50], Step [300/469], Reconst Loss: 11163.2783, KL Div: 3213.9028 Total loss 14377.1816\n",
      "Epoch[6/50], Step [400/469], Reconst Loss: 9769.2109, KL Div: 3037.5820 Total loss 12806.7930\n",
      "Epoch[7/50], Step [100/469], Reconst Loss: 10590.3203, KL Div: 3179.9226 Total loss 13770.2432\n",
      "Epoch[7/50], Step [200/469], Reconst Loss: 10596.1309, KL Div: 3168.6660 Total loss 13764.7969\n",
      "Epoch[7/50], Step [300/469], Reconst Loss: 11299.3965, KL Div: 3328.1880 Total loss 14627.5840\n",
      "Epoch[7/50], Step [400/469], Reconst Loss: 10306.7227, KL Div: 3179.2419 Total loss 13485.9648\n",
      "Epoch[8/50], Step [100/469], Reconst Loss: 10487.3164, KL Div: 3162.6162 Total loss 13649.9326\n",
      "Epoch[8/50], Step [200/469], Reconst Loss: 10648.2129, KL Div: 3193.4448 Total loss 13841.6582\n",
      "Epoch[8/50], Step [300/469], Reconst Loss: 10397.3535, KL Div: 3258.9971 Total loss 13656.3506\n",
      "Epoch[8/50], Step [400/469], Reconst Loss: 10409.2920, KL Div: 3223.0103 Total loss 13632.3027\n",
      "Epoch[9/50], Step [100/469], Reconst Loss: 10180.3184, KL Div: 3194.7065 Total loss 13375.0254\n",
      "Epoch[9/50], Step [200/469], Reconst Loss: 10349.4805, KL Div: 3242.8359 Total loss 13592.3164\n",
      "Epoch[9/50], Step [300/469], Reconst Loss: 10564.0957, KL Div: 3153.1045 Total loss 13717.2002\n",
      "Epoch[9/50], Step [400/469], Reconst Loss: 10350.4229, KL Div: 3262.7129 Total loss 13613.1357\n",
      "Epoch[10/50], Step [100/469], Reconst Loss: 10126.6309, KL Div: 3117.3662 Total loss 13243.9971\n",
      "Epoch[10/50], Step [200/469], Reconst Loss: 10542.2510, KL Div: 3395.7490 Total loss 13938.0000\n",
      "Epoch[10/50], Step [300/469], Reconst Loss: 10000.5547, KL Div: 3142.9692 Total loss 13143.5234\n",
      "Epoch[10/50], Step [400/469], Reconst Loss: 10441.7783, KL Div: 3172.2090 Total loss 13613.9873\n",
      "Epoch[11/50], Step [100/469], Reconst Loss: 10414.7578, KL Div: 3149.2769 Total loss 13564.0352\n",
      "Epoch[11/50], Step [200/469], Reconst Loss: 10527.6455, KL Div: 3199.7620 Total loss 13727.4072\n",
      "Epoch[11/50], Step [300/469], Reconst Loss: 10022.4277, KL Div: 3183.3892 Total loss 13205.8164\n",
      "Epoch[11/50], Step [400/469], Reconst Loss: 10022.0469, KL Div: 3112.0684 Total loss 13134.1152\n",
      "Epoch[12/50], Step [100/469], Reconst Loss: 10538.3623, KL Div: 3296.6377 Total loss 13835.0000\n",
      "Epoch[12/50], Step [200/469], Reconst Loss: 10105.1016, KL Div: 3121.1812 Total loss 13226.2832\n",
      "Epoch[12/50], Step [300/469], Reconst Loss: 10536.8105, KL Div: 3215.8528 Total loss 13752.6631\n",
      "Epoch[12/50], Step [400/469], Reconst Loss: 10247.7705, KL Div: 3247.3110 Total loss 13495.0820\n",
      "Epoch[13/50], Step [100/469], Reconst Loss: 10114.3594, KL Div: 3153.3916 Total loss 13267.7510\n",
      "Epoch[13/50], Step [200/469], Reconst Loss: 10661.2129, KL Div: 3349.2451 Total loss 14010.4580\n",
      "Epoch[13/50], Step [300/469], Reconst Loss: 10396.1230, KL Div: 3281.7319 Total loss 13677.8555\n",
      "Epoch[13/50], Step [400/469], Reconst Loss: 10327.2559, KL Div: 3229.2537 Total loss 13556.5098\n",
      "Epoch[14/50], Step [100/469], Reconst Loss: 10553.3652, KL Div: 3368.4746 Total loss 13921.8398\n",
      "Epoch[14/50], Step [200/469], Reconst Loss: 10054.7188, KL Div: 3249.8159 Total loss 13304.5352\n",
      "Epoch[14/50], Step [300/469], Reconst Loss: 10139.0908, KL Div: 3351.0762 Total loss 13490.1670\n",
      "Epoch[14/50], Step [400/469], Reconst Loss: 10426.3252, KL Div: 3174.9905 Total loss 13601.3154\n",
      "Epoch[15/50], Step [100/469], Reconst Loss: 10137.6543, KL Div: 3182.9075 Total loss 13320.5615\n",
      "Epoch[15/50], Step [200/469], Reconst Loss: 10273.6074, KL Div: 3208.0503 Total loss 13481.6582\n",
      "Epoch[15/50], Step [300/469], Reconst Loss: 9432.1826, KL Div: 3265.6169 Total loss 12697.7998\n",
      "Epoch[15/50], Step [400/469], Reconst Loss: 10283.6865, KL Div: 3248.3403 Total loss 13532.0273\n",
      "Epoch[16/50], Step [100/469], Reconst Loss: 9854.5195, KL Div: 3279.8208 Total loss 13134.3398\n",
      "Epoch[16/50], Step [200/469], Reconst Loss: 10264.1650, KL Div: 3233.3352 Total loss 13497.5000\n",
      "Epoch[16/50], Step [300/469], Reconst Loss: 10043.3008, KL Div: 3169.4099 Total loss 13212.7109\n",
      "Epoch[16/50], Step [400/469], Reconst Loss: 10445.1211, KL Div: 3191.0659 Total loss 13636.1875\n",
      "Epoch[17/50], Step [100/469], Reconst Loss: 9885.7461, KL Div: 3179.6040 Total loss 13065.3496\n",
      "Epoch[17/50], Step [200/469], Reconst Loss: 10079.0918, KL Div: 3279.4609 Total loss 13358.5527\n",
      "Epoch[17/50], Step [300/469], Reconst Loss: 9502.8281, KL Div: 3086.8564 Total loss 12589.6846\n",
      "Epoch[17/50], Step [400/469], Reconst Loss: 10086.5781, KL Div: 3220.1157 Total loss 13306.6934\n",
      "Epoch[18/50], Step [100/469], Reconst Loss: 9962.6475, KL Div: 3219.4336 Total loss 13182.0811\n",
      "Epoch[18/50], Step [200/469], Reconst Loss: 9862.0947, KL Div: 3216.7310 Total loss 13078.8262\n",
      "Epoch[18/50], Step [300/469], Reconst Loss: 10498.0332, KL Div: 3339.6018 Total loss 13837.6348\n",
      "Epoch[18/50], Step [400/469], Reconst Loss: 9965.9268, KL Div: 3354.7705 Total loss 13320.6973\n",
      "Epoch[19/50], Step [100/469], Reconst Loss: 9985.1670, KL Div: 3290.0464 Total loss 13275.2129\n",
      "Epoch[19/50], Step [200/469], Reconst Loss: 10206.9297, KL Div: 3206.3406 Total loss 13413.2705\n",
      "Epoch[19/50], Step [300/469], Reconst Loss: 10217.5742, KL Div: 3292.2109 Total loss 13509.7852\n",
      "Epoch[19/50], Step [400/469], Reconst Loss: 10287.8213, KL Div: 3342.7461 Total loss 13630.5674\n",
      "Epoch[20/50], Step [100/469], Reconst Loss: 10317.4922, KL Div: 3414.8008 Total loss 13732.2930\n",
      "Epoch[20/50], Step [200/469], Reconst Loss: 9932.1465, KL Div: 3266.0054 Total loss 13198.1523\n",
      "Epoch[20/50], Step [300/469], Reconst Loss: 9756.0664, KL Div: 3302.9871 Total loss 13059.0537\n",
      "Epoch[20/50], Step [400/469], Reconst Loss: 9913.5723, KL Div: 3371.5317 Total loss 13285.1035\n",
      "Epoch[21/50], Step [100/469], Reconst Loss: 9709.7793, KL Div: 3213.6196 Total loss 12923.3984\n",
      "Epoch[21/50], Step [200/469], Reconst Loss: 10187.7061, KL Div: 3278.3359 Total loss 13466.0420\n",
      "Epoch[21/50], Step [300/469], Reconst Loss: 9934.9199, KL Div: 3310.2915 Total loss 13245.2109\n",
      "Epoch[21/50], Step [400/469], Reconst Loss: 9980.1074, KL Div: 3347.1670 Total loss 13327.2744\n",
      "Epoch[22/50], Step [100/469], Reconst Loss: 10467.5742, KL Div: 3361.9331 Total loss 13829.5078\n",
      "Epoch[22/50], Step [200/469], Reconst Loss: 10074.7891, KL Div: 3212.1182 Total loss 13286.9072\n"
     ]
    },
    {
     "name": "stdout",
     "output_type": "stream",
     "text": [
      "Epoch[22/50], Step [300/469], Reconst Loss: 10082.4707, KL Div: 3178.0200 Total loss 13260.4902\n",
      "Epoch[22/50], Step [400/469], Reconst Loss: 10254.4258, KL Div: 3260.3618 Total loss 13514.7871\n",
      "Epoch[23/50], Step [100/469], Reconst Loss: 9906.2627, KL Div: 3115.2971 Total loss 13021.5596\n",
      "Epoch[23/50], Step [200/469], Reconst Loss: 10107.2070, KL Div: 3248.0752 Total loss 13355.2822\n",
      "Epoch[23/50], Step [300/469], Reconst Loss: 10222.6445, KL Div: 3311.3860 Total loss 13534.0303\n",
      "Epoch[23/50], Step [400/469], Reconst Loss: 9830.3682, KL Div: 3280.0938 Total loss 13110.4619\n",
      "Epoch[24/50], Step [100/469], Reconst Loss: 9759.3945, KL Div: 3217.5520 Total loss 12976.9463\n",
      "Epoch[24/50], Step [200/469], Reconst Loss: 9394.9404, KL Div: 3029.4524 Total loss 12424.3926\n",
      "Epoch[24/50], Step [300/469], Reconst Loss: 9603.5645, KL Div: 3166.0771 Total loss 12769.6416\n",
      "Epoch[24/50], Step [400/469], Reconst Loss: 10291.1338, KL Div: 3297.5513 Total loss 13588.6855\n",
      "Epoch[25/50], Step [100/469], Reconst Loss: 9790.8633, KL Div: 3264.1538 Total loss 13055.0176\n",
      "Epoch[25/50], Step [200/469], Reconst Loss: 10042.3760, KL Div: 3232.2344 Total loss 13274.6104\n",
      "Epoch[25/50], Step [300/469], Reconst Loss: 9899.9746, KL Div: 3281.5161 Total loss 13181.4902\n",
      "Epoch[25/50], Step [400/469], Reconst Loss: 9877.8926, KL Div: 3308.5752 Total loss 13186.4678\n",
      "Epoch[26/50], Step [100/469], Reconst Loss: 9657.3643, KL Div: 3140.6055 Total loss 12797.9697\n",
      "Epoch[26/50], Step [200/469], Reconst Loss: 10239.2148, KL Div: 3291.2234 Total loss 13530.4385\n",
      "Epoch[26/50], Step [300/469], Reconst Loss: 10206.2881, KL Div: 3296.6531 Total loss 13502.9414\n",
      "Epoch[26/50], Step [400/469], Reconst Loss: 9388.1660, KL Div: 3118.9392 Total loss 12507.1055\n",
      "Epoch[27/50], Step [100/469], Reconst Loss: 9872.9199, KL Div: 3306.2896 Total loss 13179.2090\n",
      "Epoch[27/50], Step [200/469], Reconst Loss: 9785.9355, KL Div: 3229.0896 Total loss 13015.0254\n",
      "Epoch[27/50], Step [300/469], Reconst Loss: 10072.9023, KL Div: 3254.0034 Total loss 13326.9062\n",
      "Epoch[27/50], Step [400/469], Reconst Loss: 9853.5225, KL Div: 3245.4937 Total loss 13099.0156\n",
      "Epoch[28/50], Step [100/469], Reconst Loss: 9840.3545, KL Div: 3238.9536 Total loss 13079.3086\n",
      "Epoch[28/50], Step [200/469], Reconst Loss: 9892.8662, KL Div: 3191.0168 Total loss 13083.8828\n",
      "Epoch[28/50], Step [300/469], Reconst Loss: 10212.2236, KL Div: 3195.3923 Total loss 13407.6162\n",
      "Epoch[28/50], Step [400/469], Reconst Loss: 9985.2891, KL Div: 3290.6677 Total loss 13275.9570\n",
      "Epoch[29/50], Step [100/469], Reconst Loss: 9567.5439, KL Div: 3184.8906 Total loss 12752.4346\n",
      "Epoch[29/50], Step [200/469], Reconst Loss: 10016.9160, KL Div: 3270.6135 Total loss 13287.5293\n",
      "Epoch[29/50], Step [300/469], Reconst Loss: 9708.8018, KL Div: 3199.1306 Total loss 12907.9326\n",
      "Epoch[29/50], Step [400/469], Reconst Loss: 9534.9648, KL Div: 3177.7480 Total loss 12712.7129\n",
      "Epoch[30/50], Step [100/469], Reconst Loss: 9505.4004, KL Div: 3105.0835 Total loss 12610.4844\n",
      "Epoch[30/50], Step [200/469], Reconst Loss: 10198.8350, KL Div: 3471.4683 Total loss 13670.3027\n",
      "Epoch[30/50], Step [300/469], Reconst Loss: 9613.9023, KL Div: 3120.9990 Total loss 12734.9014\n",
      "Epoch[30/50], Step [400/469], Reconst Loss: 10195.4834, KL Div: 3231.3984 Total loss 13426.8818\n",
      "Epoch[31/50], Step [100/469], Reconst Loss: 9724.8945, KL Div: 3249.0400 Total loss 12973.9346\n",
      "Epoch[31/50], Step [200/469], Reconst Loss: 9629.8086, KL Div: 3185.1128 Total loss 12814.9219\n",
      "Epoch[31/50], Step [300/469], Reconst Loss: 10158.2637, KL Div: 3267.4575 Total loss 13425.7207\n",
      "Epoch[31/50], Step [400/469], Reconst Loss: 10108.6475, KL Div: 3276.0249 Total loss 13384.6719\n",
      "Epoch[32/50], Step [100/469], Reconst Loss: 10000.2012, KL Div: 3241.6719 Total loss 13241.8730\n",
      "Epoch[32/50], Step [200/469], Reconst Loss: 9924.1143, KL Div: 3305.0029 Total loss 13229.1172\n",
      "Epoch[32/50], Step [300/469], Reconst Loss: 10097.1641, KL Div: 3299.8008 Total loss 13396.9648\n",
      "Epoch[32/50], Step [400/469], Reconst Loss: 9931.4629, KL Div: 3305.7200 Total loss 13237.1826\n",
      "Epoch[33/50], Step [100/469], Reconst Loss: 9789.9434, KL Div: 3299.2305 Total loss 13089.1738\n",
      "Epoch[33/50], Step [200/469], Reconst Loss: 10166.1582, KL Div: 3269.6982 Total loss 13435.8564\n",
      "Epoch[33/50], Step [300/469], Reconst Loss: 9976.3984, KL Div: 3182.5610 Total loss 13158.9590\n",
      "Epoch[33/50], Step [400/469], Reconst Loss: 10438.6465, KL Div: 3286.6787 Total loss 13725.3252\n",
      "Epoch[34/50], Step [100/469], Reconst Loss: 9691.2578, KL Div: 3145.7712 Total loss 12837.0293\n",
      "Epoch[34/50], Step [200/469], Reconst Loss: 9630.5547, KL Div: 3234.5376 Total loss 12865.0918\n",
      "Epoch[34/50], Step [300/469], Reconst Loss: 9821.3525, KL Div: 3273.8071 Total loss 13095.1602\n",
      "Epoch[34/50], Step [400/469], Reconst Loss: 10056.3281, KL Div: 3274.6375 Total loss 13330.9658\n",
      "Epoch[35/50], Step [100/469], Reconst Loss: 9789.2080, KL Div: 3206.9746 Total loss 12996.1826\n",
      "Epoch[35/50], Step [200/469], Reconst Loss: 9906.1816, KL Div: 3147.1226 Total loss 13053.3047\n",
      "Epoch[35/50], Step [300/469], Reconst Loss: 9823.0127, KL Div: 3342.3022 Total loss 13165.3145\n",
      "Epoch[35/50], Step [400/469], Reconst Loss: 9435.6943, KL Div: 3225.3945 Total loss 12661.0889\n",
      "Epoch[36/50], Step [100/469], Reconst Loss: 9775.5469, KL Div: 3297.2944 Total loss 13072.8418\n",
      "Epoch[36/50], Step [200/469], Reconst Loss: 10023.4922, KL Div: 3330.4661 Total loss 13353.9580\n",
      "Epoch[36/50], Step [300/469], Reconst Loss: 10107.6855, KL Div: 3286.4438 Total loss 13394.1289\n",
      "Epoch[36/50], Step [400/469], Reconst Loss: 10055.3574, KL Div: 3186.9409 Total loss 13242.2988\n",
      "Epoch[37/50], Step [100/469], Reconst Loss: 10247.1602, KL Div: 3297.0229 Total loss 13544.1836\n",
      "Epoch[37/50], Step [200/469], Reconst Loss: 9977.7881, KL Div: 3214.2996 Total loss 13192.0879\n",
      "Epoch[37/50], Step [300/469], Reconst Loss: 9399.5762, KL Div: 3273.2202 Total loss 12672.7969\n",
      "Epoch[37/50], Step [400/469], Reconst Loss: 9867.2568, KL Div: 3360.9324 Total loss 13228.1895\n",
      "Epoch[38/50], Step [100/469], Reconst Loss: 10027.5898, KL Div: 3304.6396 Total loss 13332.2295\n",
      "Epoch[38/50], Step [200/469], Reconst Loss: 9900.0176, KL Div: 3294.3213 Total loss 13194.3389\n",
      "Epoch[38/50], Step [300/469], Reconst Loss: 10147.3379, KL Div: 3409.9995 Total loss 13557.3379\n",
      "Epoch[38/50], Step [400/469], Reconst Loss: 10011.8994, KL Div: 3260.9683 Total loss 13272.8672\n",
      "Epoch[39/50], Step [100/469], Reconst Loss: 10204.6816, KL Div: 3144.5161 Total loss 13349.1973\n",
      "Epoch[39/50], Step [200/469], Reconst Loss: 10016.4932, KL Div: 3256.4204 Total loss 13272.9141\n",
      "Epoch[39/50], Step [300/469], Reconst Loss: 9886.9258, KL Div: 3221.1809 Total loss 13108.1064\n",
      "Epoch[39/50], Step [400/469], Reconst Loss: 9938.5078, KL Div: 3242.3147 Total loss 13180.8223\n",
      "Epoch[40/50], Step [100/469], Reconst Loss: 9850.5957, KL Div: 3191.4106 Total loss 13042.0059\n",
      "Epoch[40/50], Step [200/469], Reconst Loss: 10091.9014, KL Div: 3300.2083 Total loss 13392.1094\n",
      "Epoch[40/50], Step [300/469], Reconst Loss: 9581.7188, KL Div: 3139.1143 Total loss 12720.8330\n",
      "Epoch[40/50], Step [400/469], Reconst Loss: 9657.4258, KL Div: 3309.4082 Total loss 12966.8340\n",
      "Epoch[41/50], Step [100/469], Reconst Loss: 9676.8320, KL Div: 3265.0552 Total loss 12941.8867\n",
      "Epoch[41/50], Step [200/469], Reconst Loss: 9625.2129, KL Div: 3123.6853 Total loss 12748.8984\n",
      "Epoch[41/50], Step [300/469], Reconst Loss: 10131.0352, KL Div: 3321.3013 Total loss 13452.3359\n",
      "Epoch[41/50], Step [400/469], Reconst Loss: 9763.2676, KL Div: 3251.2625 Total loss 13014.5303\n",
      "Epoch[42/50], Step [100/469], Reconst Loss: 10000.8428, KL Div: 3369.1411 Total loss 13369.9844\n",
      "Epoch[42/50], Step [200/469], Reconst Loss: 9524.5088, KL Div: 3192.9150 Total loss 12717.4238\n",
      "Epoch[42/50], Step [300/469], Reconst Loss: 9546.8525, KL Div: 3141.4575 Total loss 12688.3105\n",
      "Epoch[42/50], Step [400/469], Reconst Loss: 9683.1133, KL Div: 3278.2251 Total loss 12961.3379\n",
      "Epoch[43/50], Step [100/469], Reconst Loss: 9647.0703, KL Div: 3226.7998 Total loss 12873.8701\n",
      "Epoch[43/50], Step [200/469], Reconst Loss: 9534.3770, KL Div: 3227.1528 Total loss 12761.5293\n",
      "Epoch[43/50], Step [300/469], Reconst Loss: 9980.8389, KL Div: 3322.5703 Total loss 13303.4092\n",
      "Epoch[43/50], Step [400/469], Reconst Loss: 9932.6484, KL Div: 3283.1582 Total loss 13215.8066\n"
     ]
    },
    {
     "name": "stdout",
     "output_type": "stream",
     "text": [
      "Epoch[44/50], Step [100/469], Reconst Loss: 9699.5439, KL Div: 3286.9790 Total loss 12986.5234\n",
      "Epoch[44/50], Step [200/469], Reconst Loss: 9935.1250, KL Div: 3233.9370 Total loss 13169.0625\n",
      "Epoch[44/50], Step [300/469], Reconst Loss: 9853.1309, KL Div: 3209.7017 Total loss 13062.8320\n",
      "Epoch[44/50], Step [400/469], Reconst Loss: 10288.2734, KL Div: 3324.4961 Total loss 13612.7695\n",
      "Epoch[45/50], Step [100/469], Reconst Loss: 9574.5723, KL Div: 3192.6990 Total loss 12767.2715\n",
      "Epoch[45/50], Step [200/469], Reconst Loss: 9953.3408, KL Div: 3192.0920 Total loss 13145.4326\n",
      "Epoch[45/50], Step [300/469], Reconst Loss: 10104.7480, KL Div: 3261.4492 Total loss 13366.1973\n",
      "Epoch[45/50], Step [400/469], Reconst Loss: 9954.5996, KL Div: 3291.0596 Total loss 13245.6592\n",
      "Epoch[46/50], Step [100/469], Reconst Loss: 9906.9580, KL Div: 3299.4956 Total loss 13206.4531\n",
      "Epoch[46/50], Step [200/469], Reconst Loss: 9562.5371, KL Div: 3232.5562 Total loss 12795.0938\n",
      "Epoch[46/50], Step [300/469], Reconst Loss: 10458.5020, KL Div: 3325.1450 Total loss 13783.6465\n",
      "Epoch[46/50], Step [400/469], Reconst Loss: 9668.0371, KL Div: 3200.8062 Total loss 12868.8438\n",
      "Epoch[47/50], Step [100/469], Reconst Loss: 9880.4805, KL Div: 3294.4741 Total loss 13174.9551\n",
      "Epoch[47/50], Step [200/469], Reconst Loss: 10088.8047, KL Div: 3310.9409 Total loss 13399.7461\n",
      "Epoch[47/50], Step [300/469], Reconst Loss: 9742.8311, KL Div: 3279.1060 Total loss 13021.9375\n",
      "Epoch[47/50], Step [400/469], Reconst Loss: 9825.2910, KL Div: 3211.3801 Total loss 13036.6709\n",
      "Epoch[48/50], Step [100/469], Reconst Loss: 9449.7705, KL Div: 3150.2927 Total loss 12600.0635\n",
      "Epoch[48/50], Step [200/469], Reconst Loss: 9980.6758, KL Div: 3261.1257 Total loss 13241.8018\n",
      "Epoch[48/50], Step [300/469], Reconst Loss: 9457.3809, KL Div: 3307.8411 Total loss 12765.2217\n",
      "Epoch[48/50], Step [400/469], Reconst Loss: 9860.3076, KL Div: 3281.9841 Total loss 13142.2920\n",
      "Epoch[49/50], Step [100/469], Reconst Loss: 9461.3574, KL Div: 3293.9517 Total loss 12755.3086\n",
      "Epoch[49/50], Step [200/469], Reconst Loss: 9598.4824, KL Div: 3245.2336 Total loss 12843.7158\n",
      "Epoch[49/50], Step [300/469], Reconst Loss: 9871.6484, KL Div: 3226.7700 Total loss 13098.4180\n",
      "Epoch[49/50], Step [400/469], Reconst Loss: 10143.3799, KL Div: 3203.5740 Total loss 13346.9541\n",
      "Epoch[50/50], Step [100/469], Reconst Loss: 9943.4219, KL Div: 3279.3066 Total loss 13222.7285\n",
      "Epoch[50/50], Step [200/469], Reconst Loss: 9744.3672, KL Div: 3238.1924 Total loss 12982.5596\n",
      "Epoch[50/50], Step [300/469], Reconst Loss: 9602.8975, KL Div: 3267.9695 Total loss 12870.8672\n",
      "Epoch[50/50], Step [400/469], Reconst Loss: 9719.4570, KL Div: 3272.9319 Total loss 12992.3887\n"
     ]
    }
   ],
   "source": [
    "train()"
   ]
  },
  {
   "cell_type": "markdown",
   "id": "5e45bbd1",
   "metadata": {},
   "source": [
    "## (2) ConVAE"
   ]
  },
  {
   "cell_type": "code",
   "execution_count": null,
   "id": "fe3bd8b3",
   "metadata": {},
   "outputs": [],
   "source": [
    "class Flatten(nn.Module):\n",
    "\tdef forward(self, inputs):\n",
    "\t\treturn inputs.view(inputs.size(0), -1)\n",
    "\n",
    "\n",
    "class Unflatten(nn.Module):\n",
    "\tdef __init__(self, channel, height, width):\n",
    "\t\tsuper(Unflatten, self).__init__()\n",
    "\t\tself.channel = channel\n",
    "\t\tself.height = height\n",
    "\t\tself.width = width\n",
    "\n",
    "\tdef forward(self, inputs):\n",
    "\t\treturn inputs.view(inputs.size(0), self.channel, self.height, self.width)"
   ]
  },
  {
   "cell_type": "markdown",
   "id": "d59698f7",
   "metadata": {},
   "source": [
    "![convolution](stride.JPG)\n",
    "\n",
    "![convolution](stride2.JPG)\n",
    "\n",
    "![convolution](padding.JPG)\n",
    "\n",
    "![convolution](pooling.JPG)\n",
    "\n",
    "![convolution](upsampling.JPG)"
   ]
  },
  {
   "cell_type": "markdown",
   "id": "ea2a7d87",
   "metadata": {},
   "source": [
    "![convolution](transposed_convolution.JPG)"
   ]
  },
  {
   "cell_type": "code",
   "execution_count": null,
   "id": "a72623c9",
   "metadata": {},
   "outputs": [],
   "source": [
    "class ConvVAE(nn.Module):\n",
    "\n",
    "\tdef __init__(self, input_channels=1, z_dim=20):\n",
    "\t\tsuper(ConvVAE, self).__init__()\n",
    "\n",
    "\t\tself.z_dim = z_dim\n",
    "\n",
    "\t\tself.encoder = nn.Sequential(\n",
    "\t\t\tnn.Conv2d(input_channels, 64, kernel_size=4, stride=2, padding=1),\n",
    "\t\t\tnn.ReLU(),\n",
    "\t\t\tnn.Conv2d(64, 128, kernel_size=4, stride=2, padding=1),\n",
    "\t\t\tnn.ReLU(),  # [?,128,7,7]\n",
    "\t\t\tFlatten(),\n",
    "\t\t\tnn.Linear(6272, 1024),\n",
    "\t\t\tnn.ReLU()\n",
    "\t\t)\n",
    "\n",
    "\t\t# hidden => mu\n",
    "\t\tself.fc1 = nn.Linear(1024, self.z_dim)\n",
    "\n",
    "\t\t# hidden => logvar\n",
    "\t\tself.fc2 = nn.Linear(1024, self.z_dim)\n",
    "\n",
    "\t\tself.decoder = nn.Sequential(\n",
    "\t\t\tnn.Linear(self.z_dim, 1024),\n",
    "\t\t\tnn.ReLU(),\n",
    "\t\t\tnn.Linear(1024, 6272),\n",
    "\t\t\tnn.ReLU(),\n",
    "\t\t\tUnflatten(128, 7, 7),\n",
    "\t\t\tnn.ReLU(),\n",
    "\t\t\tnn.ConvTranspose2d(128, 64, kernel_size=4, stride=2, padding=1),\n",
    "\t\t\tnn.ReLU(),\n",
    "\t\t\tnn.ConvTranspose2d(64, 1, kernel_size=4, stride=2, padding=1),\n",
    "\t\t\ttorch.Sigmoid()\n",
    "\t\t)\n",
    "\n",
    "\tdef encode(self, x):\n",
    "\t\th = self.encoder(x)\n",
    "\t\tmu, logvar = self.fc1(h), self.fc2(h)\n",
    "\t\treturn mu, logvar\n",
    "\n",
    "\tdef decode(self, z):\n",
    "\t\tz = self.decoder(z)\n",
    "\t\treturn z\n",
    "\n",
    "\tdef reparameterize(self, mu, logvar):\n",
    "\t\tstd = torch.exp(0.5 * logvar)\n",
    "\t\teps = torch.randn_like(std)\n",
    "\t\treturn eps.mul(std).add_(mu)\n",
    "\n",
    "\tdef forward(self, x):\n",
    "\t\tmu, logvar = self.encode(x)\n",
    "\t\tz = self.reparameterize(mu, logvar)\n",
    "\t\treturn self.decode(z), mu, logvar"
   ]
  },
  {
   "cell_type": "code",
   "execution_count": 119,
   "id": "01b476b1",
   "metadata": {},
   "outputs": [
    {
     "name": "stdout",
     "output_type": "stream",
     "text": [
      "ConvVAE(\n",
      "  (encoder): Sequential(\n",
      "    (0): Conv2d(1, 64, kernel_size=(4, 4), stride=(2, 2), padding=(1, 1))\n",
      "    (1): ReLU()\n",
      "    (2): Conv2d(64, 128, kernel_size=(4, 4), stride=(2, 2), padding=(1, 1))\n",
      "    (3): ReLU()\n",
      "    (4): Flatten()\n",
      "    (5): Linear(in_features=6272, out_features=1024, bias=True)\n",
      "    (6): ReLU()\n",
      "  )\n",
      "  (fc1): Linear(in_features=1024, out_features=20, bias=True)\n",
      "  (fc2): Linear(in_features=1024, out_features=20, bias=True)\n",
      "  (decoder): Sequential(\n",
      "    (0): Linear(in_features=20, out_features=1024, bias=True)\n",
      "    (1): ReLU()\n",
      "    (2): Linear(in_features=1024, out_features=6272, bias=True)\n",
      "    (3): ReLU()\n",
      "    (4): Unflatten()\n",
      "    (5): ReLU()\n",
      "    (6): ConvTranspose2d(128, 64, kernel_size=(4, 4), stride=(2, 2), padding=(1, 1))\n",
      "    (7): ReLU()\n",
      "    (8): ConvTranspose2d(64, 1, kernel_size=(4, 4), stride=(2, 2), padding=(1, 1))\n",
      "    (9): Sigmoid()\n",
      "  )\n",
      ")\n"
     ]
    }
   ],
   "source": [
    "model = ConvVAE()\n",
    "print(model)"
   ]
  },
  {
   "cell_type": "markdown",
   "id": "7ed978bd",
   "metadata": {},
   "source": [
    "The calculation formula of image size after convolution：N = (W − F + 2P )/S+1\n",
    "\n",
    "W is the original image size, F is the convolution kernel size, P is the padding size, and S is the step size.\n",
    "\n",
    "conv1 = (28-4+2)/2+1 = 14\n",
    "\n",
    "conv2 = (14-4+2)/2+1 = 7\n",
    "\n",
    "6272=7$\\times$7$\\times$128"
   ]
  },
  {
   "cell_type": "markdown",
   "id": "a33417f0",
   "metadata": {},
   "source": [
    "nn.ConvTranspose2d(in_channels, out_channels, kernel_size, stride=1, padding=0, output_padding=0, groups=1, bias=True, dilation=1)\n",
    "\n",
    "padding(int or tuple, optional) - 输入的每一条边补充0的层数，高宽都增加2*padding\n",
    "\n",
    "output_padding(int or tuple, optional) - 输出边补充0的层数，高宽都增加padding\n",
    "\n",
    "输出尺寸计算：\n",
    "output = (input-1)$\\times$stride+output_padding -2$\\times$padding+kernelsize"
   ]
  },
  {
   "cell_type": "code",
   "execution_count": 120,
   "id": "989fb858",
   "metadata": {},
   "outputs": [],
   "source": [
    "from torchsummary import summary"
   ]
  },
  {
   "cell_type": "code",
   "execution_count": 124,
   "id": "1624587f",
   "metadata": {},
   "outputs": [
    {
     "name": "stdout",
     "output_type": "stream",
     "text": [
      "----------------------------------------------------------------\n",
      "        Layer (type)               Output Shape         Param #\n",
      "================================================================\n",
      "            Conv2d-1           [-1, 64, 14, 14]           1,088\n",
      "              ReLU-2           [-1, 64, 14, 14]               0\n",
      "            Conv2d-3            [-1, 128, 7, 7]         131,200\n",
      "              ReLU-4            [-1, 128, 7, 7]               0\n",
      "           Flatten-5                 [-1, 6272]               0\n",
      "            Linear-6                 [-1, 1024]       6,423,552\n",
      "              ReLU-7                 [-1, 1024]               0\n",
      "            Linear-8                   [-1, 20]          20,500\n",
      "            Linear-9                   [-1, 20]          20,500\n",
      "           Linear-10                 [-1, 1024]          21,504\n",
      "             ReLU-11                 [-1, 1024]               0\n",
      "           Linear-12                 [-1, 6272]       6,428,800\n",
      "             ReLU-13                 [-1, 6272]               0\n",
      "        Unflatten-14            [-1, 128, 7, 7]               0\n",
      "             ReLU-15            [-1, 128, 7, 7]               0\n",
      "  ConvTranspose2d-16           [-1, 64, 14, 14]         131,136\n",
      "             ReLU-17           [-1, 64, 14, 14]               0\n",
      "  ConvTranspose2d-18            [-1, 1, 28, 28]           1,025\n",
      "          Sigmoid-19            [-1, 1, 28, 28]               0\n",
      "================================================================\n",
      "Total params: 13,179,305\n",
      "Trainable params: 13,179,305\n",
      "Non-trainable params: 0\n",
      "----------------------------------------------------------------\n",
      "Input size (MB): 0.00\n",
      "Forward/backward pass size (MB): 0.76\n",
      "Params size (MB): 50.28\n",
      "Estimated Total Size (MB): 51.04\n",
      "----------------------------------------------------------------\n"
     ]
    }
   ],
   "source": [
    "summary(model.to(device),(1,28,28))"
   ]
  },
  {
   "cell_type": "code",
   "execution_count": 107,
   "id": "0e0915d3",
   "metadata": {},
   "outputs": [],
   "source": [
    "result_dir = './conVAEresult' # './convVAEresult'  result dir\n",
    "save_dir = './Conckpt' # model saving directory\n",
    "\n",
    "lr = 1e-3 # learning rate\n",
    "z_dim = 20 # latent vector size of encoder\n",
    "input_dim = 28*28 #input dimension (28*28 for MNIST)\n",
    "h_dim = 400 \n",
    "input_channel = 1 #input channel (1 for MNIST)"
   ]
  },
  {
   "cell_type": "code",
   "execution_count": 125,
   "id": "bef219b4",
   "metadata": {},
   "outputs": [],
   "source": [
    "def train():\n",
    "    myVAE = ConvVAE(input_channels=input_channel, z_dim=z_dim).to(device)\n",
    "    #myVAE = VAE(input_dim, h_dim, z_dim).to(device)\n",
    "    optimizer = optim.Adam(myVAE.parameters(), lr=lr)\n",
    "\n",
    "    start_epoch = 0\n",
    "    best_test_loss = np.finfo('f').max\n",
    "\n",
    "    # optionally resume from a checkpoint\n",
    "    if resume:\n",
    "        if os.path.isfile(resume):\n",
    "            print('=> loading checkpoint %s' % resume)\n",
    "            checkpoint = torch.load(resume)\n",
    "            start_epoch = checkpoint['epoch'] + 1\n",
    "            best_test_loss = checkpoint['best_test_loss']\n",
    "            myVAE.load_state_dict(checkpoint['state_dict'])\n",
    "            optimizer.load_state_dict(checkpoint['optimizer'])\n",
    "            print('=> loaded checkpoint %s' % resume)\n",
    "        else:\n",
    "            print('=> no checkpoint found at %s' % resume)\n",
    "\n",
    "    if not os.path.exists(result_dir):\n",
    "        os.makedirs(result_dir)\n",
    "\n",
    "    trainloader, testloader, classes = prepare_MNIST(batch_size, num_worker)\n",
    "\n",
    "\n",
    "    # training\n",
    "    for epoch in range(start_epoch, epochs):\n",
    "\n",
    "        for i, data in enumerate(trainloader):\n",
    "            # get the inputs; data is a list of [inputs, labels]\n",
    "            # Remember to deploy the input data on GPU\n",
    "            inputs = data[0].to(device)\n",
    "      #      inputs = inputs.view(-1, input_dim)\n",
    "            # forward\n",
    "            res, mu, log_sigma = myVAE(inputs)\n",
    "\n",
    "            loss, recon_loss, KLD = loss_func(res, inputs, mu, log_sigma)\n",
    "            # zero out the paramter gradients\n",
    "            optimizer.zero_grad()\n",
    "            loss.backward()\n",
    "            optimizer.step()\n",
    "\n",
    "            # print statistics every 100 batches\n",
    "            if (i + 1) % 100 == 0:\n",
    "                print(\"Epoch[{}/{}], Step [{}/{}], Reconst Loss: {:.4f}, KL Div: {:.4f} Total loss {:.4f}\"\n",
    "                      .format(epoch + 1, epochs, i + 1, len(trainloader), recon_loss.item(),\n",
    "                              KLD.item(), loss.item()))\n",
    "\n",
    "            if i == 0:\n",
    "                # visualize reconstructed result at the beginning of each epoch\n",
    "                x_concat = torch.cat([inputs.view(-1, 1, 28, 28), res.view(-1, 1, 28, 28)], dim=3)\n",
    "                save_image(x_concat, (\"./%s/reconstructed-%d.png\" % (result_dir, epoch + 1)))\n",
    "\n",
    "        # testing\n",
    "        if (epoch + 1) % test_every == 0:\n",
    "            test_avg_loss = 0.0\n",
    "            with torch.no_grad():\n",
    "                for idx, test_data in enumerate(testloader):\n",
    "                    # get the inputs; data is a list of [inputs, labels]\n",
    "                    test_inputs = test_data[0].to(device)\n",
    "        #            test_inputs = test_inputs.view(-1, input_dim)\n",
    "                    # forward\n",
    "                    test_res, test_mu, test_log_sigma = myVAE(test_inputs)\n",
    "\n",
    "                    test_loss, test_recon_loss, test_KLD = loss_func(test_res, test_inputs, test_mu, test_log_sigma)\n",
    "\n",
    "                    test_avg_loss += test_loss\n",
    "\n",
    "                test_avg_loss /= len(testloader.dataset)\n",
    "\n",
    "                # we randomly sample some images' latent vectors from its distribution\n",
    "                z = torch.randn(batch_size, z_dim).to(device)\n",
    "                random_res = myVAE.decode(z).view(-1, 1, 28, 28)\n",
    "                save_image(random_res, \"./%s/random_sampled-%d.png\" % (result_dir, epoch + 1))\n",
    "\n",
    "                # save model\n",
    "                is_best = test_avg_loss < best_test_loss\n",
    "                best_test_loss = min(test_avg_loss, best_test_loss)\n",
    "                save_checkpoint({\n",
    "                    'epoch': epoch,\n",
    "                    'best_test_loss': best_test_loss,\n",
    "                    'state_dict': myVAE.state_dict(),\n",
    "                    'optimizer': optimizer.state_dict(),\n",
    "                }, is_best,save_dir)"
   ]
  },
  {
   "cell_type": "code",
   "execution_count": 126,
   "id": "8f566a26",
   "metadata": {
    "scrolled": true
   },
   "outputs": [
    {
     "name": "stdout",
     "output_type": "stream",
     "text": [
      "Epoch[1/50], Step [100/469], Reconst Loss: 23650.6484, KL Div: 679.5708 Total loss 24330.2188\n",
      "Epoch[1/50], Step [200/469], Reconst Loss: 17797.7871, KL Div: 1542.8169 Total loss 19340.6035\n",
      "Epoch[1/50], Step [300/469], Reconst Loss: 15366.7100, KL Div: 1884.6241 Total loss 17251.3340\n",
      "Epoch[1/50], Step [400/469], Reconst Loss: 13438.6592, KL Div: 2340.7422 Total loss 15779.4014\n",
      "Epoch[2/50], Step [100/469], Reconst Loss: 12399.2988, KL Div: 2442.2593 Total loss 14841.5586\n",
      "Epoch[2/50], Step [200/469], Reconst Loss: 11292.7227, KL Div: 2536.2363 Total loss 13828.9590\n",
      "Epoch[2/50], Step [300/469], Reconst Loss: 11196.7363, KL Div: 2419.8599 Total loss 13616.5957\n",
      "Epoch[2/50], Step [400/469], Reconst Loss: 10872.4707, KL Div: 2568.9236 Total loss 13441.3945\n",
      "Epoch[3/50], Step [100/469], Reconst Loss: 10698.9775, KL Div: 2518.6460 Total loss 13217.6230\n",
      "Epoch[3/50], Step [200/469], Reconst Loss: 10118.7988, KL Div: 2630.3540 Total loss 12749.1523\n",
      "Epoch[3/50], Step [300/469], Reconst Loss: 10846.1133, KL Div: 2592.9385 Total loss 13439.0518\n",
      "Epoch[3/50], Step [400/469], Reconst Loss: 10347.1582, KL Div: 2690.4976 Total loss 13037.6562\n",
      "Epoch[4/50], Step [100/469], Reconst Loss: 10681.8145, KL Div: 2698.2371 Total loss 13380.0518\n",
      "Epoch[4/50], Step [200/469], Reconst Loss: 10502.6768, KL Div: 2680.4116 Total loss 13183.0879\n",
      "Epoch[4/50], Step [300/469], Reconst Loss: 11001.4746, KL Div: 2757.0015 Total loss 13758.4766\n",
      "Epoch[4/50], Step [400/469], Reconst Loss: 10171.3818, KL Div: 2695.7920 Total loss 12867.1738\n",
      "Epoch[5/50], Step [100/469], Reconst Loss: 9945.8535, KL Div: 2679.3457 Total loss 12625.1992\n",
      "Epoch[5/50], Step [200/469], Reconst Loss: 10194.4922, KL Div: 2726.1885 Total loss 12920.6807\n",
      "Epoch[5/50], Step [300/469], Reconst Loss: 10538.3301, KL Div: 2794.0317 Total loss 13332.3613\n",
      "Epoch[5/50], Step [400/469], Reconst Loss: 10293.7314, KL Div: 2739.7554 Total loss 13033.4863\n",
      "Epoch[6/50], Step [100/469], Reconst Loss: 9927.2832, KL Div: 2693.5647 Total loss 12620.8477\n",
      "Epoch[6/50], Step [200/469], Reconst Loss: 10231.1699, KL Div: 2732.6189 Total loss 12963.7891\n",
      "Epoch[6/50], Step [300/469], Reconst Loss: 10113.5703, KL Div: 2753.2251 Total loss 12866.7949\n",
      "Epoch[6/50], Step [400/469], Reconst Loss: 9629.6016, KL Div: 2777.4651 Total loss 12407.0664\n",
      "Epoch[7/50], Step [100/469], Reconst Loss: 10220.0479, KL Div: 2889.4346 Total loss 13109.4824\n",
      "Epoch[7/50], Step [200/469], Reconst Loss: 9866.9277, KL Div: 2767.2559 Total loss 12634.1836\n",
      "Epoch[7/50], Step [300/469], Reconst Loss: 10130.1270, KL Div: 2804.1885 Total loss 12934.3154\n",
      "Epoch[7/50], Step [400/469], Reconst Loss: 9696.6836, KL Div: 2765.8701 Total loss 12462.5537\n",
      "Epoch[8/50], Step [100/469], Reconst Loss: 9202.2783, KL Div: 2597.5332 Total loss 11799.8115\n",
      "Epoch[8/50], Step [200/469], Reconst Loss: 9773.6406, KL Div: 2752.8389 Total loss 12526.4795\n",
      "Epoch[8/50], Step [300/469], Reconst Loss: 9728.7754, KL Div: 2754.0757 Total loss 12482.8516\n",
      "Epoch[8/50], Step [400/469], Reconst Loss: 10113.4092, KL Div: 2897.8286 Total loss 13011.2383\n",
      "Epoch[9/50], Step [100/469], Reconst Loss: 9885.6416, KL Div: 2835.6702 Total loss 12721.3115\n",
      "Epoch[9/50], Step [200/469], Reconst Loss: 9625.7305, KL Div: 2731.3596 Total loss 12357.0898\n",
      "Epoch[9/50], Step [300/469], Reconst Loss: 9762.9668, KL Div: 2889.0229 Total loss 12651.9902\n",
      "Epoch[9/50], Step [400/469], Reconst Loss: 9530.8750, KL Div: 2674.3345 Total loss 12205.2090\n",
      "Epoch[10/50], Step [100/469], Reconst Loss: 9561.8193, KL Div: 2799.8018 Total loss 12361.6211\n",
      "Epoch[10/50], Step [200/469], Reconst Loss: 9917.3428, KL Div: 2817.2607 Total loss 12734.6035\n",
      "Epoch[10/50], Step [300/469], Reconst Loss: 9781.3652, KL Div: 2789.5493 Total loss 12570.9141\n",
      "Epoch[10/50], Step [400/469], Reconst Loss: 9896.5869, KL Div: 2842.3201 Total loss 12738.9072\n",
      "Epoch[11/50], Step [100/469], Reconst Loss: 9709.5996, KL Div: 2694.9832 Total loss 12404.5830\n",
      "Epoch[11/50], Step [200/469], Reconst Loss: 9872.9150, KL Div: 2874.6316 Total loss 12747.5469\n",
      "Epoch[11/50], Step [300/469], Reconst Loss: 10179.6436, KL Div: 2804.2993 Total loss 12983.9434\n",
      "Epoch[11/50], Step [400/469], Reconst Loss: 9436.7793, KL Div: 2777.3003 Total loss 12214.0801\n",
      "Epoch[12/50], Step [100/469], Reconst Loss: 9039.0684, KL Div: 2738.0750 Total loss 11777.1436\n",
      "Epoch[12/50], Step [200/469], Reconst Loss: 9576.5801, KL Div: 2802.9482 Total loss 12379.5283\n",
      "Epoch[12/50], Step [300/469], Reconst Loss: 9361.6309, KL Div: 2853.2715 Total loss 12214.9023\n",
      "Epoch[12/50], Step [400/469], Reconst Loss: 9697.2598, KL Div: 2791.1663 Total loss 12488.4258\n",
      "Epoch[13/50], Step [100/469], Reconst Loss: 9089.2793, KL Div: 2673.2407 Total loss 11762.5195\n",
      "Epoch[13/50], Step [200/469], Reconst Loss: 9555.2871, KL Div: 2732.1948 Total loss 12287.4824\n",
      "Epoch[13/50], Step [300/469], Reconst Loss: 9935.5820, KL Div: 2874.4888 Total loss 12810.0703\n",
      "Epoch[13/50], Step [400/469], Reconst Loss: 9336.4551, KL Div: 2795.2458 Total loss 12131.7012\n",
      "Epoch[14/50], Step [100/469], Reconst Loss: 9401.6719, KL Div: 2707.2915 Total loss 12108.9629\n",
      "Epoch[14/50], Step [200/469], Reconst Loss: 8991.9180, KL Div: 2807.8398 Total loss 11799.7578\n",
      "Epoch[14/50], Step [300/469], Reconst Loss: 9591.7627, KL Div: 2823.9250 Total loss 12415.6875\n",
      "Epoch[14/50], Step [400/469], Reconst Loss: 9827.2959, KL Div: 2826.6697 Total loss 12653.9658\n",
      "Epoch[15/50], Step [100/469], Reconst Loss: 9490.2168, KL Div: 2762.2000 Total loss 12252.4170\n",
      "Epoch[15/50], Step [200/469], Reconst Loss: 9350.8135, KL Div: 2864.1145 Total loss 12214.9277\n",
      "Epoch[15/50], Step [300/469], Reconst Loss: 9462.1133, KL Div: 2795.0667 Total loss 12257.1797\n",
      "Epoch[15/50], Step [400/469], Reconst Loss: 9332.4375, KL Div: 2893.1328 Total loss 12225.5703\n",
      "Epoch[16/50], Step [100/469], Reconst Loss: 9691.3281, KL Div: 2909.8496 Total loss 12601.1777\n",
      "Epoch[16/50], Step [200/469], Reconst Loss: 9511.6455, KL Div: 2843.1011 Total loss 12354.7461\n",
      "Epoch[16/50], Step [300/469], Reconst Loss: 9342.1680, KL Div: 2815.9556 Total loss 12158.1230\n",
      "Epoch[16/50], Step [400/469], Reconst Loss: 9385.2324, KL Div: 2791.1948 Total loss 12176.4277\n",
      "Epoch[17/50], Step [100/469], Reconst Loss: 9400.9648, KL Div: 2689.0288 Total loss 12089.9941\n",
      "Epoch[17/50], Step [200/469], Reconst Loss: 9447.7402, KL Div: 2883.6606 Total loss 12331.4004\n",
      "Epoch[17/50], Step [300/469], Reconst Loss: 9282.3262, KL Div: 2820.8245 Total loss 12103.1504\n",
      "Epoch[17/50], Step [400/469], Reconst Loss: 9192.8369, KL Div: 2797.8296 Total loss 11990.6660\n",
      "Epoch[18/50], Step [100/469], Reconst Loss: 9306.6836, KL Div: 2729.4854 Total loss 12036.1689\n",
      "Epoch[18/50], Step [200/469], Reconst Loss: 9302.4609, KL Div: 2804.8574 Total loss 12107.3184\n",
      "Epoch[18/50], Step [300/469], Reconst Loss: 9979.0664, KL Div: 2893.5801 Total loss 12872.6465\n",
      "Epoch[18/50], Step [400/469], Reconst Loss: 9304.5596, KL Div: 2884.6604 Total loss 12189.2197\n",
      "Epoch[19/50], Step [100/469], Reconst Loss: 9576.6309, KL Div: 2952.9170 Total loss 12529.5479\n",
      "Epoch[19/50], Step [200/469], Reconst Loss: 9729.1582, KL Div: 2986.3901 Total loss 12715.5488\n",
      "Epoch[19/50], Step [300/469], Reconst Loss: 9612.7549, KL Div: 2890.5889 Total loss 12503.3438\n",
      "Epoch[19/50], Step [400/469], Reconst Loss: 9092.2188, KL Div: 2761.1951 Total loss 11853.4141\n",
      "Epoch[20/50], Step [100/469], Reconst Loss: 9689.8164, KL Div: 2816.8979 Total loss 12506.7148\n",
      "Epoch[20/50], Step [200/469], Reconst Loss: 9332.4570, KL Div: 2842.6316 Total loss 12175.0889\n",
      "Epoch[20/50], Step [300/469], Reconst Loss: 8928.2686, KL Div: 2751.2654 Total loss 11679.5342\n",
      "Epoch[20/50], Step [400/469], Reconst Loss: 9127.2891, KL Div: 2816.8804 Total loss 11944.1699\n",
      "Epoch[21/50], Step [100/469], Reconst Loss: 9402.7070, KL Div: 2675.8154 Total loss 12078.5225\n",
      "Epoch[21/50], Step [200/469], Reconst Loss: 9351.8242, KL Div: 2705.3911 Total loss 12057.2148\n",
      "Epoch[21/50], Step [300/469], Reconst Loss: 9259.5957, KL Div: 2832.5591 Total loss 12092.1543\n",
      "Epoch[21/50], Step [400/469], Reconst Loss: 9182.4678, KL Div: 2783.7847 Total loss 11966.2520\n",
      "Epoch[22/50], Step [100/469], Reconst Loss: 9365.9199, KL Div: 2748.1912 Total loss 12114.1113\n",
      "Epoch[22/50], Step [200/469], Reconst Loss: 9437.2920, KL Div: 2818.1675 Total loss 12255.4590\n",
      "Epoch[22/50], Step [300/469], Reconst Loss: 9142.9961, KL Div: 2847.8838 Total loss 11990.8799\n"
     ]
    },
    {
     "name": "stdout",
     "output_type": "stream",
     "text": [
      "Epoch[22/50], Step [400/469], Reconst Loss: 9327.5020, KL Div: 2806.4924 Total loss 12133.9941\n",
      "Epoch[23/50], Step [100/469], Reconst Loss: 9137.8516, KL Div: 2809.0640 Total loss 11946.9160\n",
      "Epoch[23/50], Step [200/469], Reconst Loss: 9470.6816, KL Div: 2824.7605 Total loss 12295.4424\n",
      "Epoch[23/50], Step [300/469], Reconst Loss: 9608.8926, KL Div: 2740.5469 Total loss 12349.4395\n",
      "Epoch[23/50], Step [400/469], Reconst Loss: 9038.4102, KL Div: 2896.0942 Total loss 11934.5039\n",
      "Epoch[24/50], Step [100/469], Reconst Loss: 9327.3086, KL Div: 2811.9546 Total loss 12139.2637\n",
      "Epoch[24/50], Step [200/469], Reconst Loss: 9352.3330, KL Div: 2698.2759 Total loss 12050.6094\n",
      "Epoch[24/50], Step [300/469], Reconst Loss: 9228.7461, KL Div: 2766.1504 Total loss 11994.8965\n",
      "Epoch[24/50], Step [400/469], Reconst Loss: 9158.7188, KL Div: 2801.7390 Total loss 11960.4580\n",
      "Epoch[25/50], Step [100/469], Reconst Loss: 9196.4805, KL Div: 2788.9155 Total loss 11985.3965\n",
      "Epoch[25/50], Step [200/469], Reconst Loss: 9107.5010, KL Div: 2894.1885 Total loss 12001.6895\n",
      "Epoch[25/50], Step [300/469], Reconst Loss: 8989.4805, KL Div: 2794.9646 Total loss 11784.4453\n",
      "Epoch[25/50], Step [400/469], Reconst Loss: 9108.1641, KL Div: 2746.2510 Total loss 11854.4150\n",
      "Epoch[26/50], Step [100/469], Reconst Loss: 9439.2383, KL Div: 2775.7383 Total loss 12214.9766\n",
      "Epoch[26/50], Step [200/469], Reconst Loss: 9192.9873, KL Div: 2785.4761 Total loss 11978.4629\n",
      "Epoch[26/50], Step [300/469], Reconst Loss: 9255.2930, KL Div: 2838.6162 Total loss 12093.9092\n",
      "Epoch[26/50], Step [400/469], Reconst Loss: 9417.7266, KL Div: 2830.2102 Total loss 12247.9365\n",
      "Epoch[27/50], Step [100/469], Reconst Loss: 8971.6738, KL Div: 2724.3691 Total loss 11696.0430\n",
      "Epoch[27/50], Step [200/469], Reconst Loss: 9123.9629, KL Div: 2706.4839 Total loss 11830.4473\n",
      "Epoch[27/50], Step [300/469], Reconst Loss: 8959.3418, KL Div: 2793.2627 Total loss 11752.6045\n",
      "Epoch[27/50], Step [400/469], Reconst Loss: 9634.4883, KL Div: 2946.5066 Total loss 12580.9951\n",
      "Epoch[28/50], Step [100/469], Reconst Loss: 9449.6543, KL Div: 2930.3564 Total loss 12380.0107\n",
      "Epoch[28/50], Step [200/469], Reconst Loss: 9375.4209, KL Div: 2874.6770 Total loss 12250.0977\n",
      "Epoch[28/50], Step [300/469], Reconst Loss: 9056.9570, KL Div: 2781.1812 Total loss 11838.1387\n",
      "Epoch[28/50], Step [400/469], Reconst Loss: 9167.1016, KL Div: 2838.6316 Total loss 12005.7334\n",
      "Epoch[29/50], Step [100/469], Reconst Loss: 9113.9883, KL Div: 2838.1338 Total loss 11952.1221\n",
      "Epoch[29/50], Step [200/469], Reconst Loss: 8830.0830, KL Div: 2817.8374 Total loss 11647.9199\n",
      "Epoch[29/50], Step [300/469], Reconst Loss: 9188.8408, KL Div: 2872.4133 Total loss 12061.2539\n",
      "Epoch[29/50], Step [400/469], Reconst Loss: 8800.1562, KL Div: 2704.1765 Total loss 11504.3330\n",
      "Epoch[30/50], Step [100/469], Reconst Loss: 9299.6045, KL Div: 2860.0923 Total loss 12159.6973\n",
      "Epoch[30/50], Step [200/469], Reconst Loss: 9170.1475, KL Div: 2874.1621 Total loss 12044.3096\n",
      "Epoch[30/50], Step [300/469], Reconst Loss: 9406.2344, KL Div: 2863.9939 Total loss 12270.2285\n",
      "Epoch[30/50], Step [400/469], Reconst Loss: 9099.9512, KL Div: 2788.4209 Total loss 11888.3721\n",
      "Epoch[31/50], Step [100/469], Reconst Loss: 9114.9707, KL Div: 2739.5464 Total loss 11854.5176\n",
      "Epoch[31/50], Step [200/469], Reconst Loss: 8864.8574, KL Div: 2806.9358 Total loss 11671.7930\n",
      "Epoch[31/50], Step [300/469], Reconst Loss: 9523.2041, KL Div: 2851.4058 Total loss 12374.6094\n",
      "Epoch[31/50], Step [400/469], Reconst Loss: 9614.8398, KL Div: 2871.7888 Total loss 12486.6289\n",
      "Epoch[32/50], Step [100/469], Reconst Loss: 9180.4258, KL Div: 2870.5532 Total loss 12050.9785\n",
      "Epoch[32/50], Step [200/469], Reconst Loss: 9108.4854, KL Div: 2925.5249 Total loss 12034.0098\n",
      "Epoch[32/50], Step [300/469], Reconst Loss: 9616.8701, KL Div: 2962.3340 Total loss 12579.2041\n",
      "Epoch[32/50], Step [400/469], Reconst Loss: 9529.1338, KL Div: 2791.3081 Total loss 12320.4414\n",
      "Epoch[33/50], Step [100/469], Reconst Loss: 8951.4277, KL Div: 2787.5381 Total loss 11738.9658\n",
      "Epoch[33/50], Step [200/469], Reconst Loss: 9277.6562, KL Div: 2773.7114 Total loss 12051.3672\n",
      "Epoch[33/50], Step [300/469], Reconst Loss: 8910.2295, KL Div: 2676.5374 Total loss 11586.7666\n",
      "Epoch[33/50], Step [400/469], Reconst Loss: 9002.1045, KL Div: 2776.6514 Total loss 11778.7559\n",
      "Epoch[34/50], Step [100/469], Reconst Loss: 9212.2031, KL Div: 2926.2637 Total loss 12138.4668\n",
      "Epoch[34/50], Step [200/469], Reconst Loss: 9162.9863, KL Div: 2852.8799 Total loss 12015.8662\n",
      "Epoch[34/50], Step [300/469], Reconst Loss: 9060.2773, KL Div: 2943.0503 Total loss 12003.3281\n",
      "Epoch[34/50], Step [400/469], Reconst Loss: 9030.2334, KL Div: 2792.8430 Total loss 11823.0762\n",
      "Epoch[35/50], Step [100/469], Reconst Loss: 8914.5459, KL Div: 2838.3115 Total loss 11752.8574\n",
      "Epoch[35/50], Step [200/469], Reconst Loss: 9010.1494, KL Div: 2948.1123 Total loss 11958.2617\n",
      "Epoch[35/50], Step [300/469], Reconst Loss: 8733.5635, KL Div: 2819.7891 Total loss 11553.3525\n",
      "Epoch[35/50], Step [400/469], Reconst Loss: 8812.6289, KL Div: 2771.7202 Total loss 11584.3496\n",
      "Epoch[36/50], Step [100/469], Reconst Loss: 9284.2695, KL Div: 2894.8179 Total loss 12179.0879\n",
      "Epoch[36/50], Step [200/469], Reconst Loss: 9421.2559, KL Div: 2764.8796 Total loss 12186.1357\n",
      "Epoch[36/50], Step [300/469], Reconst Loss: 9199.4932, KL Div: 2863.3884 Total loss 12062.8818\n",
      "Epoch[36/50], Step [400/469], Reconst Loss: 9447.0234, KL Div: 2863.7622 Total loss 12310.7852\n",
      "Epoch[37/50], Step [100/469], Reconst Loss: 8748.9756, KL Div: 2884.1785 Total loss 11633.1543\n",
      "Epoch[37/50], Step [200/469], Reconst Loss: 9181.7148, KL Div: 2765.8389 Total loss 11947.5537\n",
      "Epoch[37/50], Step [300/469], Reconst Loss: 9213.1016, KL Div: 2895.1816 Total loss 12108.2832\n",
      "Epoch[37/50], Step [400/469], Reconst Loss: 8876.7852, KL Div: 2826.6238 Total loss 11703.4092\n",
      "Epoch[38/50], Step [100/469], Reconst Loss: 9054.4414, KL Div: 2820.8452 Total loss 11875.2871\n",
      "Epoch[38/50], Step [200/469], Reconst Loss: 9066.9160, KL Div: 2812.7886 Total loss 11879.7051\n",
      "Epoch[38/50], Step [300/469], Reconst Loss: 9559.6465, KL Div: 2990.6428 Total loss 12550.2891\n",
      "Epoch[38/50], Step [400/469], Reconst Loss: 9030.2324, KL Div: 2844.8398 Total loss 11875.0723\n",
      "Epoch[39/50], Step [100/469], Reconst Loss: 9281.0723, KL Div: 2886.4790 Total loss 12167.5508\n",
      "Epoch[39/50], Step [200/469], Reconst Loss: 8962.0996, KL Div: 2839.2646 Total loss 11801.3643\n",
      "Epoch[39/50], Step [300/469], Reconst Loss: 8955.1855, KL Div: 2841.7507 Total loss 11796.9365\n",
      "Epoch[39/50], Step [400/469], Reconst Loss: 9235.5742, KL Div: 2807.0015 Total loss 12042.5762\n",
      "Epoch[40/50], Step [100/469], Reconst Loss: 8879.1074, KL Div: 2762.1853 Total loss 11641.2930\n",
      "Epoch[40/50], Step [200/469], Reconst Loss: 8694.4297, KL Div: 2781.4087 Total loss 11475.8379\n",
      "Epoch[40/50], Step [300/469], Reconst Loss: 8813.2988, KL Div: 2787.9778 Total loss 11601.2764\n",
      "Epoch[40/50], Step [400/469], Reconst Loss: 8771.8359, KL Div: 2646.4309 Total loss 11418.2666\n",
      "Epoch[41/50], Step [100/469], Reconst Loss: 8990.7910, KL Div: 2800.4644 Total loss 11791.2559\n",
      "Epoch[41/50], Step [200/469], Reconst Loss: 8643.1045, KL Div: 2838.5522 Total loss 11481.6562\n",
      "Epoch[41/50], Step [300/469], Reconst Loss: 8797.9316, KL Div: 2677.5623 Total loss 11475.4941\n",
      "Epoch[41/50], Step [400/469], Reconst Loss: 9159.8008, KL Div: 2834.8301 Total loss 11994.6309\n",
      "Epoch[42/50], Step [100/469], Reconst Loss: 9315.0020, KL Div: 2772.1084 Total loss 12087.1104\n",
      "Epoch[42/50], Step [200/469], Reconst Loss: 9105.3145, KL Div: 2873.8003 Total loss 11979.1152\n",
      "Epoch[42/50], Step [300/469], Reconst Loss: 9309.3945, KL Div: 2960.2947 Total loss 12269.6895\n",
      "Epoch[42/50], Step [400/469], Reconst Loss: 9175.6855, KL Div: 2885.9153 Total loss 12061.6006\n",
      "Epoch[43/50], Step [100/469], Reconst Loss: 9623.3867, KL Div: 2869.7085 Total loss 12493.0957\n",
      "Epoch[43/50], Step [200/469], Reconst Loss: 9004.9600, KL Div: 2782.4771 Total loss 11787.4375\n",
      "Epoch[43/50], Step [300/469], Reconst Loss: 9119.7559, KL Div: 2806.8850 Total loss 11926.6406\n",
      "Epoch[43/50], Step [400/469], Reconst Loss: 9164.9688, KL Div: 2923.3054 Total loss 12088.2744\n",
      "Epoch[44/50], Step [100/469], Reconst Loss: 8848.5488, KL Div: 2802.8538 Total loss 11651.4023\n",
      "Epoch[44/50], Step [200/469], Reconst Loss: 9306.7490, KL Div: 2886.0669 Total loss 12192.8164\n"
     ]
    },
    {
     "name": "stdout",
     "output_type": "stream",
     "text": [
      "Epoch[44/50], Step [300/469], Reconst Loss: 8750.6641, KL Div: 2795.0247 Total loss 11545.6885\n",
      "Epoch[44/50], Step [400/469], Reconst Loss: 9300.8701, KL Div: 2974.1482 Total loss 12275.0186\n",
      "Epoch[45/50], Step [100/469], Reconst Loss: 8780.6191, KL Div: 2742.6050 Total loss 11523.2246\n",
      "Epoch[45/50], Step [200/469], Reconst Loss: 9486.3506, KL Div: 3007.2288 Total loss 12493.5791\n",
      "Epoch[45/50], Step [300/469], Reconst Loss: 9182.7539, KL Div: 2856.3723 Total loss 12039.1260\n",
      "Epoch[45/50], Step [400/469], Reconst Loss: 8800.9893, KL Div: 2825.6763 Total loss 11626.6660\n",
      "Epoch[46/50], Step [100/469], Reconst Loss: 9063.1914, KL Div: 2931.7534 Total loss 11994.9453\n",
      "Epoch[46/50], Step [200/469], Reconst Loss: 9007.4893, KL Div: 2864.2261 Total loss 11871.7148\n",
      "Epoch[46/50], Step [300/469], Reconst Loss: 8823.7666, KL Div: 2828.7107 Total loss 11652.4775\n",
      "Epoch[46/50], Step [400/469], Reconst Loss: 8997.6250, KL Div: 2808.0469 Total loss 11805.6719\n",
      "Epoch[47/50], Step [100/469], Reconst Loss: 9150.4629, KL Div: 2809.3948 Total loss 11959.8574\n",
      "Epoch[47/50], Step [200/469], Reconst Loss: 8959.2871, KL Div: 2817.7190 Total loss 11777.0059\n",
      "Epoch[47/50], Step [300/469], Reconst Loss: 8988.3711, KL Div: 2848.7708 Total loss 11837.1416\n",
      "Epoch[47/50], Step [400/469], Reconst Loss: 8831.3486, KL Div: 2803.2173 Total loss 11634.5664\n",
      "Epoch[48/50], Step [100/469], Reconst Loss: 8604.6455, KL Div: 2796.3206 Total loss 11400.9658\n",
      "Epoch[48/50], Step [200/469], Reconst Loss: 8964.4062, KL Div: 2803.4932 Total loss 11767.8994\n",
      "Epoch[48/50], Step [300/469], Reconst Loss: 9172.2236, KL Div: 2935.1152 Total loss 12107.3389\n",
      "Epoch[48/50], Step [400/469], Reconst Loss: 8845.2461, KL Div: 2821.7542 Total loss 11667.0000\n",
      "Epoch[49/50], Step [100/469], Reconst Loss: 8671.6797, KL Div: 2775.0378 Total loss 11446.7178\n",
      "Epoch[49/50], Step [200/469], Reconst Loss: 9002.1660, KL Div: 2862.3511 Total loss 11864.5176\n",
      "Epoch[49/50], Step [300/469], Reconst Loss: 8861.5918, KL Div: 2835.6575 Total loss 11697.2490\n",
      "Epoch[49/50], Step [400/469], Reconst Loss: 8948.3555, KL Div: 2792.3276 Total loss 11740.6836\n",
      "Epoch[50/50], Step [100/469], Reconst Loss: 9157.7715, KL Div: 2835.2534 Total loss 11993.0254\n",
      "Epoch[50/50], Step [200/469], Reconst Loss: 9137.0693, KL Div: 2911.6619 Total loss 12048.7314\n",
      "Epoch[50/50], Step [300/469], Reconst Loss: 9037.4404, KL Div: 2766.5210 Total loss 11803.9609\n",
      "Epoch[50/50], Step [400/469], Reconst Loss: 9272.2441, KL Div: 2912.1943 Total loss 12184.4385\n"
     ]
    }
   ],
   "source": [
    "train()"
   ]
  },
  {
   "cell_type": "markdown",
   "id": "c01fb5cf",
   "metadata": {},
   "source": [
    "![GPU](GPU_use.JPG)"
   ]
  },
  {
   "cell_type": "markdown",
   "id": "32687ead",
   "metadata": {},
   "source": [
    "# [4] Application \n",
    "VAE can reduce the image noise"
   ]
  },
  {
   "cell_type": "code",
   "execution_count": 135,
   "id": "13c6d5f0",
   "metadata": {},
   "outputs": [],
   "source": [
    "# Define a transform to normalize the data\n",
    "transform = transforms.Compose([transforms.ToTensor(),\n",
    "                                transforms.Normalize((0.5,), (0.5,))])\n",
    "# Download and load the training data\n",
    "trainset = datasets.FashionMNIST('../F_MNIST_data', download=False, train=True, transform=transform)\n",
    "trainloader = torch.utils.data.DataLoader(trainset, batch_size=128, shuffle=True)\n",
    "\n",
    "# Download and load the test data\n",
    "testset = datasets.FashionMNIST('../F_MNIST_data', download=False, train=False, transform=transform)\n",
    "testloader = torch.utils.data.DataLoader(testset, batch_size=128, shuffle=True)"
   ]
  },
  {
   "cell_type": "code",
   "execution_count": 137,
   "id": "db0c1a53",
   "metadata": {},
   "outputs": [
    {
     "data": {
      "image/png": "[encoded data removed]",
      "text/plain": [
       "<Figure size 432x288 with 1 Axes>"
      ]
     },
     "metadata": {
      "needs_background": "light"
     },
     "output_type": "display_data"
    }
   ],
   "source": [
    "image, label = next(iter(trainloader))\n",
    "imshow(image[0,:]);"
   ]
  },
  {
   "cell_type": "code",
   "execution_count": 161,
   "id": "6fc23df0",
   "metadata": {},
   "outputs": [
    {
     "name": "stderr",
     "output_type": "stream",
     "text": [
      "Clipping input data to the valid range for imshow with RGB data ([0..1] for floats or [0..255] for integers).\n"
     ]
    },
    {
     "data": {
      "image/png": "[encoded data removed]",
      "text/plain": [
       "<Figure size 432x288 with 1 Axes>"
      ]
     },
     "metadata": {
      "needs_background": "light"
     },
     "output_type": "display_data"
    }
   ],
   "source": [
    "data_iter = iter(testloader)\n",
    "imgs, labels = data_iter.next()\n",
    "imshow(torchvision.utils.make_grid(imgs, nrow=16))"
   ]
  },
  {
   "cell_type": "code",
   "execution_count": 167,
   "id": "3b60d7c2",
   "metadata": {},
   "outputs": [
    {
     "name": "stdout",
     "output_type": "stream",
     "text": [
      "torch.Size([128, 1, 28, 28]) torch.Size([128, 1, 28, 28])\n"
     ]
    }
   ],
   "source": [
    "print(imgs.size(),imgs.shape)"
   ]
  },
  {
   "cell_type": "code",
   "execution_count": 170,
   "id": "b2b2ce81",
   "metadata": {},
   "outputs": [],
   "source": [
    "noise_factor = 0.2\n",
    "imgs_noisy = imgs + noise_factor * torch.randn_like(imgs)"
   ]
  },
  {
   "cell_type": "code",
   "execution_count": 171,
   "id": "f4ea2b68",
   "metadata": {},
   "outputs": [
    {
     "data": {
      "image/png": "[encoded data removed]",
      "text/plain": [
       "<Figure size 1440x576 with 10 Axes>"
      ]
     },
     "metadata": {
      "needs_background": "light"
     },
     "output_type": "display_data"
    }
   ],
   "source": [
    "n = 5\n",
    "plt.figure(figsize=(20, 8))\n",
    "plt.gray()\n",
    "for i in range(n):\n",
    "    ax = plt.subplot(2, n, i + 1) \n",
    "    plt.title(\"original\", size=20) \n",
    "    plt.imshow(torch.squeeze(imgs[i])) \n",
    "    plt.gray() \n",
    "    bx = plt.subplot(2, n, n+ i + 1) \n",
    "    plt.title(\"original + noise\", size=20) \n",
    "    plt.imshow(torch.squeeze(imgs_noisy[i])) \n",
    "plt.show()"
   ]
  },
  {
   "cell_type": "code",
   "execution_count": 175,
   "id": "a6f7fb97",
   "metadata": {},
   "outputs": [],
   "source": [
    "def prepare_fashion_MNIST(batch_size=BATCH_SIZE, num_workers=NUM_WORKERS):\n",
    "\ttransform = transforms.Compose([transforms.ToTensor(),])\n",
    "\n",
    "\ttraining_set = torchvision.datasets.FashionMNIST(\"../F_MNIST_data\", train=True, download=False, transform=transform)\n",
    "\ttest_set = torchvision.datasets.FashionMNIST(\"../F_MNIST_data\", train=False, download=False, transform=transform)\n",
    "\t# num_workers denotes how many subprocesses to use for data loading\n",
    "\ttrainloader = DataLoader(training_set, batch_size=batch_size, shuffle=True, num_workers=num_workers)\n",
    "\ttestloader = DataLoader(test_set, batch_size=batch_size, shuffle=True, num_workers=num_workers)\n",
    "\n",
    "\tclssses = ('0', '1', '2', '3', '4', '5', '6', '7', '8', '9')\n",
    "\treturn trainloader, testloader, clssses\n",
    "\n",
    "\n",
    "def imshow(img):\n",
    "\t# img = img / 2 + 0.5  # unnormalize\n",
    "\tnpimg = img.numpy()\n",
    "\tplt.imshow(np.transpose(npimg, (1, 2, 0)))\n",
    "\tplt.show()"
   ]
  },
  {
   "cell_type": "code",
   "execution_count": 176,
   "id": "ac29b17e",
   "metadata": {},
   "outputs": [
    {
     "data": {
      "image/png": "[encoded data removed]",
      "text/plain": [
       "<Figure size 432x288 with 1 Axes>"
      ]
     },
     "metadata": {
      "needs_background": "light"
     },
     "output_type": "display_data"
    }
   ],
   "source": [
    "trainloader, testloader, classes = prepare_fashion_MNIST()\n",
    "data_iter = iter(trainloader)\n",
    "imgs, labels = data_iter.next()\n",
    "imshow(torchvision.utils.make_grid(imgs, nrow=16))"
   ]
  },
  {
   "cell_type": "code",
   "execution_count": 177,
   "id": "1f035ec8",
   "metadata": {},
   "outputs": [],
   "source": [
    "result_dir = './conVAEfashion_result' # './convVAEresult'  result dir\n",
    "save_dir = './Confashion_ckpt' # model saving directory\n",
    "\n",
    "lr = 1e-3 # learning rate\n",
    "z_dim = 20 # latent vector size of encoder\n",
    "input_dim = 28*28 #input dimension (28*28 for MNIST)\n",
    "h_dim = 400 \n",
    "input_channel = 1 #input channel (1 for MNIST)"
   ]
  },
  {
   "cell_type": "code",
   "execution_count": 183,
   "id": "977ced1a",
   "metadata": {},
   "outputs": [],
   "source": [
    "def train_fashion():\n",
    "    myVAE = ConvVAE(input_channels=input_channel, z_dim=z_dim).to(device)\n",
    "    #myVAE = VAE(input_dim, h_dim, z_dim).to(device)\n",
    "    optimizer = optim.Adam(myVAE.parameters(), lr=lr)\n",
    "\n",
    "    start_epoch = 0\n",
    "    best_test_loss = np.finfo('f').max\n",
    "\n",
    "    # optionally resume from a checkpoint\n",
    "    if resume:\n",
    "        if os.path.isfile(resume):\n",
    "            print('=> loading checkpoint %s' % resume)\n",
    "            checkpoint = torch.load(resume)\n",
    "            start_epoch = checkpoint['epoch'] + 1\n",
    "            best_test_loss = checkpoint['best_test_loss']\n",
    "            myVAE.load_state_dict(checkpoint['state_dict'])\n",
    "            optimizer.load_state_dict(checkpoint['optimizer'])\n",
    "            print('=> loaded checkpoint %s' % resume)\n",
    "        else:\n",
    "            print('=> no checkpoint found at %s' % resume)\n",
    "\n",
    "    if not os.path.exists(result_dir):\n",
    "        os.makedirs(result_dir)\n",
    "\n",
    "    trainloader, testloader, classes = prepare_fashion_MNIST(batch_size, num_worker)\n",
    "\n",
    "\n",
    "    # training\n",
    "    for epoch in range(start_epoch, epochs):\n",
    "\n",
    "        for i, data in enumerate(trainloader):\n",
    "            # get the inputs; data is a list of [inputs, labels]\n",
    "            # Remember to deploy the input data on GPU\n",
    "            inputs = data[0] + noise_factor * torch.randn_like(data[0])\n",
    "            imgs_noisy = inputs.to(device)\n",
    "            inputs =  data[0].to(device)\n",
    "            # forward\n",
    "            res, mu, log_sigma = myVAE(imgs_noisy)\n",
    "\n",
    "            loss, recon_loss, KLD = loss_func(res, inputs, mu, log_sigma)\n",
    "            # zero out the paramter gradients\n",
    "            optimizer.zero_grad()\n",
    "            loss.backward()\n",
    "            optimizer.step()\n",
    "\n",
    "            # print statistics every 100 batches\n",
    "            if (i + 1) % 100 == 0:\n",
    "                print(\"Epoch[{}/{}], Step [{}/{}], Reconst Loss: {:.4f}, KL Div: {:.4f} Total loss {:.4f}\"\n",
    "                      .format(epoch + 1, epochs, i + 1, len(trainloader), recon_loss.item(),\n",
    "                              KLD.item(), loss.item()))\n",
    "\n",
    "            if i == 0:\n",
    "                # visualize reconstructed result at the beginning of each epoch\n",
    "                x_concat = torch.cat([imgs_noisy.view(-1, 1, 28, 28), res.view(-1, 1, 28, 28)], dim=3)\n",
    "                save_image(x_concat, (\"./%s/reconstructed-%d.png\" % (result_dir, epoch + 1)))\n",
    "\n",
    "        # testing\n",
    "        if (epoch + 1) % test_every == 0:\n",
    "            test_avg_loss = 0.0\n",
    "            with torch.no_grad():\n",
    "                for idx, test_data in enumerate(testloader):\n",
    "                    # get the inputs; data is a list of [inputs, labels]\n",
    "                    test_inputs = test_data[0] + noise_factor * torch.randn_like(test_data[0])\n",
    "                    imgs_noisy = test_inputs.to(device)\n",
    "                    test_data1 = test_data[0].to(device)\n",
    "        #            test_inputs = test_inputs.view(-1, input_dim)\n",
    "                    # forward\n",
    "                    test_res, test_mu, test_log_sigma = myVAE(imgs_noisy)\n",
    "\n",
    "                    test_loss, test_recon_loss, test_KLD = loss_func(test_res, test_data1, test_mu, test_log_sigma)\n",
    "\n",
    "                    test_avg_loss += test_loss\n",
    "\n",
    "                test_avg_loss /= len(testloader.dataset)\n",
    "\n",
    "                # we randomly sample some images' latent vectors from its distribution\n",
    "                z = torch.randn(batch_size, z_dim).to(device)\n",
    "                random_res = myVAE.decode(z).view(-1, 1, 28, 28)\n",
    "                save_image(random_res, \"./%s/random_sampled-%d.png\" % (result_dir, epoch + 1))\n",
    "\n",
    "                # save model\n",
    "                is_best = test_avg_loss < best_test_loss\n",
    "                best_test_loss = min(test_avg_loss, best_test_loss)\n",
    "                save_checkpoint({\n",
    "                    'epoch': epoch,\n",
    "                    'best_test_loss': best_test_loss,\n",
    "                    'state_dict': myVAE.state_dict(),\n",
    "                    'optimizer': optimizer.state_dict(),\n",
    "                }, is_best,save_dir)"
   ]
  },
  {
   "cell_type": "code",
   "execution_count": 184,
   "id": "9660ccf5",
   "metadata": {
    "scrolled": true
   },
   "outputs": [
    {
     "name": "stdout",
     "output_type": "stream",
     "text": [
      "Epoch[1/50], Step [100/469], Reconst Loss: 34349.6758, KL Div: 1529.3993 Total loss 35879.0742\n",
      "Epoch[1/50], Step [200/469], Reconst Loss: 31900.2949, KL Div: 1590.7520 Total loss 33491.0469\n",
      "Epoch[1/50], Step [300/469], Reconst Loss: 31940.6973, KL Div: 1435.1183 Total loss 33375.8164\n",
      "Epoch[1/50], Step [400/469], Reconst Loss: 29640.0352, KL Div: 1560.6664 Total loss 31200.7012\n",
      "Epoch[2/50], Step [100/469], Reconst Loss: 28814.2695, KL Div: 1512.9758 Total loss 30327.2461\n",
      "Epoch[2/50], Step [200/469], Reconst Loss: 28419.1719, KL Div: 1567.6704 Total loss 29986.8418\n",
      "Epoch[2/50], Step [300/469], Reconst Loss: 31683.4219, KL Div: 1547.7501 Total loss 33231.1719\n",
      "Epoch[2/50], Step [400/469], Reconst Loss: 31032.6602, KL Div: 1510.5027 Total loss 32543.1621\n",
      "Epoch[3/50], Step [100/469], Reconst Loss: 30255.6758, KL Div: 1484.1389 Total loss 31739.8145\n",
      "Epoch[3/50], Step [200/469], Reconst Loss: 29523.5527, KL Div: 1599.6296 Total loss 31123.1816\n",
      "Epoch[3/50], Step [300/469], Reconst Loss: 29209.1016, KL Div: 1559.2085 Total loss 30768.3105\n",
      "Epoch[3/50], Step [400/469], Reconst Loss: 27422.9336, KL Div: 1468.6602 Total loss 28891.5938\n",
      "Epoch[4/50], Step [100/469], Reconst Loss: 30063.0273, KL Div: 1585.9919 Total loss 31649.0195\n",
      "Epoch[4/50], Step [200/469], Reconst Loss: 28519.7363, KL Div: 1634.7894 Total loss 30154.5254\n",
      "Epoch[4/50], Step [300/469], Reconst Loss: 28748.8516, KL Div: 1530.9880 Total loss 30279.8398\n",
      "Epoch[4/50], Step [400/469], Reconst Loss: 29560.1719, KL Div: 1656.2848 Total loss 31216.4570\n",
      "Epoch[5/50], Step [100/469], Reconst Loss: 29041.6602, KL Div: 1571.6418 Total loss 30613.3027\n",
      "Epoch[5/50], Step [200/469], Reconst Loss: 29162.7773, KL Div: 1634.4512 Total loss 30797.2285\n",
      "Epoch[5/50], Step [300/469], Reconst Loss: 29371.2617, KL Div: 1704.4316 Total loss 31075.6934\n",
      "Epoch[5/50], Step [400/469], Reconst Loss: 28304.2129, KL Div: 1712.4592 Total loss 30016.6719\n",
      "Epoch[6/50], Step [100/469], Reconst Loss: 28808.0117, KL Div: 1675.3530 Total loss 30483.3652\n",
      "Epoch[6/50], Step [200/469], Reconst Loss: 27490.5234, KL Div: 1727.5415 Total loss 29218.0645\n",
      "Epoch[6/50], Step [300/469], Reconst Loss: 28331.9199, KL Div: 1663.1831 Total loss 29995.1035\n",
      "Epoch[6/50], Step [400/469], Reconst Loss: 28574.6113, KL Div: 1899.9468 Total loss 30474.5586\n",
      "Epoch[7/50], Step [100/469], Reconst Loss: 29531.7637, KL Div: 1579.1569 Total loss 31110.9199\n",
      "Epoch[7/50], Step [200/469], Reconst Loss: 29488.8027, KL Div: 1720.9102 Total loss 31209.7129\n",
      "Epoch[7/50], Step [300/469], Reconst Loss: 28037.5977, KL Div: 1684.6248 Total loss 29722.2227\n",
      "Epoch[7/50], Step [400/469], Reconst Loss: 29627.8984, KL Div: 1662.6044 Total loss 31290.5020\n",
      "Epoch[8/50], Step [100/469], Reconst Loss: 29082.3145, KL Div: 1793.2289 Total loss 30875.5430\n",
      "Epoch[8/50], Step [200/469], Reconst Loss: 30006.3438, KL Div: 1722.0376 Total loss 31728.3809\n",
      "Epoch[8/50], Step [300/469], Reconst Loss: 28085.1250, KL Div: 1649.5664 Total loss 29734.6914\n",
      "Epoch[8/50], Step [400/469], Reconst Loss: 27842.9727, KL Div: 1633.5063 Total loss 29476.4785\n",
      "Epoch[9/50], Step [100/469], Reconst Loss: 28285.2910, KL Div: 1618.6865 Total loss 29903.9766\n",
      "Epoch[9/50], Step [200/469], Reconst Loss: 29575.9805, KL Div: 1725.0254 Total loss 31301.0059\n",
      "Epoch[9/50], Step [300/469], Reconst Loss: 28325.5312, KL Div: 1784.9526 Total loss 30110.4844\n",
      "Epoch[9/50], Step [400/469], Reconst Loss: 29466.9062, KL Div: 1704.1798 Total loss 31171.0859\n",
      "Epoch[10/50], Step [100/469], Reconst Loss: 28615.2832, KL Div: 1629.6384 Total loss 30244.9219\n",
      "Epoch[10/50], Step [200/469], Reconst Loss: 30005.0742, KL Div: 1925.0990 Total loss 31930.1738\n",
      "Epoch[10/50], Step [300/469], Reconst Loss: 28498.4473, KL Div: 1693.2537 Total loss 30191.7012\n",
      "Epoch[10/50], Step [400/469], Reconst Loss: 29999.7480, KL Div: 1807.4902 Total loss 31807.2383\n",
      "Epoch[11/50], Step [100/469], Reconst Loss: 29324.6191, KL Div: 1651.8977 Total loss 30976.5176\n",
      "Epoch[11/50], Step [200/469], Reconst Loss: 29688.3008, KL Div: 1715.0594 Total loss 31403.3594\n",
      "Epoch[11/50], Step [300/469], Reconst Loss: 26825.0703, KL Div: 1777.3818 Total loss 28602.4531\n",
      "Epoch[11/50], Step [400/469], Reconst Loss: 29405.1621, KL Div: 1745.1482 Total loss 31150.3105\n",
      "Epoch[12/50], Step [100/469], Reconst Loss: 29599.1133, KL Div: 1709.2559 Total loss 31308.3691\n",
      "Epoch[12/50], Step [200/469], Reconst Loss: 27239.0664, KL Div: 1770.2572 Total loss 29009.3242\n",
      "Epoch[12/50], Step [300/469], Reconst Loss: 28121.7988, KL Div: 1768.1758 Total loss 29889.9746\n",
      "Epoch[12/50], Step [400/469], Reconst Loss: 27119.0039, KL Div: 1809.9307 Total loss 28928.9336\n",
      "Epoch[13/50], Step [100/469], Reconst Loss: 30481.1270, KL Div: 1736.5378 Total loss 32217.6641\n",
      "Epoch[13/50], Step [200/469], Reconst Loss: 29298.2539, KL Div: 1743.3712 Total loss 31041.6250\n",
      "Epoch[13/50], Step [300/469], Reconst Loss: 28907.6855, KL Div: 1820.5811 Total loss 30728.2656\n",
      "Epoch[13/50], Step [400/469], Reconst Loss: 29144.7578, KL Div: 1706.8043 Total loss 30851.5625\n",
      "Epoch[14/50], Step [100/469], Reconst Loss: 27644.1406, KL Div: 1652.5552 Total loss 29296.6953\n",
      "Epoch[14/50], Step [200/469], Reconst Loss: 28491.5156, KL Div: 1757.7762 Total loss 30249.2910\n",
      "Epoch[14/50], Step [300/469], Reconst Loss: 27831.1523, KL Div: 1751.0851 Total loss 29582.2383\n",
      "Epoch[14/50], Step [400/469], Reconst Loss: 28624.6309, KL Div: 1685.0535 Total loss 30309.6836\n",
      "Epoch[15/50], Step [100/469], Reconst Loss: 28954.6328, KL Div: 1812.1407 Total loss 30766.7734\n",
      "Epoch[15/50], Step [200/469], Reconst Loss: 27459.4492, KL Div: 1681.8462 Total loss 29141.2949\n",
      "Epoch[15/50], Step [300/469], Reconst Loss: 29228.9961, KL Div: 1784.0823 Total loss 31013.0781\n",
      "Epoch[15/50], Step [400/469], Reconst Loss: 27546.1426, KL Div: 1723.7954 Total loss 29269.9375\n",
      "Epoch[16/50], Step [100/469], Reconst Loss: 28680.7031, KL Div: 1739.1638 Total loss 30419.8672\n",
      "Epoch[16/50], Step [200/469], Reconst Loss: 28361.7188, KL Div: 1760.5486 Total loss 30122.2676\n",
      "Epoch[16/50], Step [300/469], Reconst Loss: 28775.8809, KL Div: 1721.1118 Total loss 30496.9922\n",
      "Epoch[16/50], Step [400/469], Reconst Loss: 27434.1836, KL Div: 1769.5115 Total loss 29203.6953\n",
      "Epoch[17/50], Step [100/469], Reconst Loss: 28165.0430, KL Div: 1773.2897 Total loss 29938.3320\n",
      "Epoch[17/50], Step [200/469], Reconst Loss: 28577.6406, KL Div: 1835.5371 Total loss 30413.1777\n",
      "Epoch[17/50], Step [300/469], Reconst Loss: 26404.6680, KL Div: 1703.6475 Total loss 28108.3164\n",
      "Epoch[17/50], Step [400/469], Reconst Loss: 28160.3496, KL Div: 1631.0212 Total loss 29791.3711\n",
      "Epoch[18/50], Step [100/469], Reconst Loss: 29845.6016, KL Div: 1786.5933 Total loss 31632.1953\n",
      "Epoch[18/50], Step [200/469], Reconst Loss: 27051.8223, KL Div: 1740.0977 Total loss 28791.9199\n",
      "Epoch[18/50], Step [300/469], Reconst Loss: 30358.7500, KL Div: 1810.6172 Total loss 32169.3672\n",
      "Epoch[18/50], Step [400/469], Reconst Loss: 28773.2402, KL Div: 1821.2367 Total loss 30594.4766\n",
      "Epoch[19/50], Step [100/469], Reconst Loss: 28442.6562, KL Div: 1784.0940 Total loss 30226.7500\n",
      "Epoch[19/50], Step [200/469], Reconst Loss: 28181.6895, KL Div: 1832.5485 Total loss 30014.2383\n",
      "Epoch[19/50], Step [300/469], Reconst Loss: 27827.3008, KL Div: 1672.5017 Total loss 29499.8027\n",
      "Epoch[19/50], Step [400/469], Reconst Loss: 27639.2480, KL Div: 1806.2794 Total loss 29445.5273\n",
      "Epoch[20/50], Step [100/469], Reconst Loss: 29971.6387, KL Div: 1771.7046 Total loss 31743.3438\n",
      "Epoch[20/50], Step [200/469], Reconst Loss: 28248.1250, KL Div: 1765.9600 Total loss 30014.0859\n",
      "Epoch[20/50], Step [300/469], Reconst Loss: 27744.9414, KL Div: 1713.5830 Total loss 29458.5234\n",
      "Epoch[20/50], Step [400/469], Reconst Loss: 30520.1973, KL Div: 1788.1079 Total loss 32308.3047\n",
      "Epoch[21/50], Step [100/469], Reconst Loss: 27913.0957, KL Div: 1733.3762 Total loss 29646.4727\n",
      "Epoch[21/50], Step [200/469], Reconst Loss: 27544.6660, KL Div: 1756.3711 Total loss 29301.0371\n",
      "Epoch[21/50], Step [300/469], Reconst Loss: 29658.7852, KL Div: 1831.2003 Total loss 31489.9863\n",
      "Epoch[21/50], Step [400/469], Reconst Loss: 28786.2637, KL Div: 1740.3811 Total loss 30526.6445\n",
      "Epoch[22/50], Step [100/469], Reconst Loss: 27947.7070, KL Div: 1839.0551 Total loss 29786.7617\n",
      "Epoch[22/50], Step [200/469], Reconst Loss: 28731.3750, KL Div: 1736.6331 Total loss 30468.0078\n"
     ]
    },
    {
     "name": "stdout",
     "output_type": "stream",
     "text": [
      "Epoch[22/50], Step [300/469], Reconst Loss: 27447.7012, KL Div: 1802.7842 Total loss 29250.4844\n",
      "Epoch[22/50], Step [400/469], Reconst Loss: 28174.5039, KL Div: 1745.9250 Total loss 29920.4297\n",
      "Epoch[23/50], Step [100/469], Reconst Loss: 28332.0215, KL Div: 1821.5229 Total loss 30153.5449\n",
      "Epoch[23/50], Step [200/469], Reconst Loss: 27627.8711, KL Div: 1741.2985 Total loss 29369.1699\n",
      "Epoch[23/50], Step [300/469], Reconst Loss: 28244.2383, KL Div: 1776.8635 Total loss 30021.1016\n",
      "Epoch[23/50], Step [400/469], Reconst Loss: 26804.2070, KL Div: 1766.0188 Total loss 28570.2266\n",
      "Epoch[24/50], Step [100/469], Reconst Loss: 28639.1250, KL Div: 1805.2998 Total loss 30444.4258\n",
      "Epoch[24/50], Step [200/469], Reconst Loss: 28280.9785, KL Div: 1819.3922 Total loss 30100.3711\n",
      "Epoch[24/50], Step [300/469], Reconst Loss: 27960.4258, KL Div: 1779.2500 Total loss 29739.6758\n",
      "Epoch[24/50], Step [400/469], Reconst Loss: 28566.6426, KL Div: 1775.3965 Total loss 30342.0391\n",
      "Epoch[25/50], Step [100/469], Reconst Loss: 27230.3047, KL Div: 1703.9724 Total loss 28934.2773\n",
      "Epoch[25/50], Step [200/469], Reconst Loss: 29826.5410, KL Div: 1767.6001 Total loss 31594.1406\n",
      "Epoch[25/50], Step [300/469], Reconst Loss: 27935.1641, KL Div: 1783.5282 Total loss 29718.6914\n",
      "Epoch[25/50], Step [400/469], Reconst Loss: 28250.1250, KL Div: 1848.4392 Total loss 30098.5645\n",
      "Epoch[26/50], Step [100/469], Reconst Loss: 27875.4277, KL Div: 1783.1428 Total loss 29658.5703\n",
      "Epoch[26/50], Step [200/469], Reconst Loss: 28686.3691, KL Div: 1819.4895 Total loss 30505.8594\n",
      "Epoch[26/50], Step [300/469], Reconst Loss: 28487.2461, KL Div: 1838.5195 Total loss 30325.7656\n",
      "Epoch[26/50], Step [400/469], Reconst Loss: 26974.0586, KL Div: 1772.4226 Total loss 28746.4805\n",
      "Epoch[27/50], Step [100/469], Reconst Loss: 28192.6211, KL Div: 1780.4991 Total loss 29973.1211\n",
      "Epoch[27/50], Step [200/469], Reconst Loss: 28531.4180, KL Div: 1796.5271 Total loss 30327.9453\n",
      "Epoch[27/50], Step [300/469], Reconst Loss: 28146.2617, KL Div: 1765.8976 Total loss 29912.1602\n",
      "Epoch[27/50], Step [400/469], Reconst Loss: 27855.1270, KL Div: 1740.5420 Total loss 29595.6680\n",
      "Epoch[28/50], Step [100/469], Reconst Loss: 29115.8379, KL Div: 1817.7529 Total loss 30933.5898\n",
      "Epoch[28/50], Step [200/469], Reconst Loss: 27875.9531, KL Div: 1815.9050 Total loss 29691.8574\n",
      "Epoch[28/50], Step [300/469], Reconst Loss: 27839.7383, KL Div: 1743.1812 Total loss 29582.9199\n",
      "Epoch[28/50], Step [400/469], Reconst Loss: 28521.6621, KL Div: 1793.0662 Total loss 30314.7285\n",
      "Epoch[29/50], Step [100/469], Reconst Loss: 29426.3398, KL Div: 1781.3251 Total loss 31207.6641\n",
      "Epoch[29/50], Step [200/469], Reconst Loss: 27755.0938, KL Div: 1767.1595 Total loss 29522.2539\n",
      "Epoch[29/50], Step [300/469], Reconst Loss: 27983.4531, KL Div: 1771.0405 Total loss 29754.4941\n",
      "Epoch[29/50], Step [400/469], Reconst Loss: 27745.4473, KL Div: 1803.8646 Total loss 29549.3125\n",
      "Epoch[30/50], Step [100/469], Reconst Loss: 28004.9609, KL Div: 1740.6655 Total loss 29745.6270\n",
      "Epoch[30/50], Step [200/469], Reconst Loss: 28678.4570, KL Div: 1774.9030 Total loss 30453.3594\n",
      "Epoch[30/50], Step [300/469], Reconst Loss: 29501.7832, KL Div: 1806.9141 Total loss 31308.6973\n",
      "Epoch[30/50], Step [400/469], Reconst Loss: 28878.8027, KL Div: 1740.3423 Total loss 30619.1445\n",
      "Epoch[31/50], Step [100/469], Reconst Loss: 28970.8281, KL Div: 1792.1234 Total loss 30762.9512\n",
      "Epoch[31/50], Step [200/469], Reconst Loss: 28055.2637, KL Div: 1820.1317 Total loss 29875.3945\n",
      "Epoch[31/50], Step [300/469], Reconst Loss: 28131.6738, KL Div: 1803.2188 Total loss 29934.8926\n",
      "Epoch[31/50], Step [400/469], Reconst Loss: 28224.2891, KL Div: 1762.2793 Total loss 29986.5684\n",
      "Epoch[32/50], Step [100/469], Reconst Loss: 27372.1758, KL Div: 1785.0640 Total loss 29157.2402\n",
      "Epoch[32/50], Step [200/469], Reconst Loss: 27958.7422, KL Div: 1795.3782 Total loss 29754.1211\n",
      "Epoch[32/50], Step [300/469], Reconst Loss: 28138.9395, KL Div: 1788.5886 Total loss 29927.5273\n",
      "Epoch[32/50], Step [400/469], Reconst Loss: 28603.7031, KL Div: 1872.8704 Total loss 30476.5742\n",
      "Epoch[33/50], Step [100/469], Reconst Loss: 28395.3984, KL Div: 1845.9847 Total loss 30241.3828\n",
      "Epoch[33/50], Step [200/469], Reconst Loss: 28723.6465, KL Div: 1799.6199 Total loss 30523.2656\n",
      "Epoch[33/50], Step [300/469], Reconst Loss: 26983.9941, KL Div: 1839.9882 Total loss 28823.9824\n",
      "Epoch[33/50], Step [400/469], Reconst Loss: 28487.7031, KL Div: 1810.4406 Total loss 30298.1445\n",
      "Epoch[34/50], Step [100/469], Reconst Loss: 26096.6680, KL Div: 1780.1953 Total loss 27876.8633\n",
      "Epoch[34/50], Step [200/469], Reconst Loss: 28614.5117, KL Div: 1803.4137 Total loss 30417.9258\n",
      "Epoch[34/50], Step [300/469], Reconst Loss: 27623.2812, KL Div: 1849.7942 Total loss 29473.0762\n",
      "Epoch[34/50], Step [400/469], Reconst Loss: 26632.4609, KL Div: 1805.2615 Total loss 28437.7227\n",
      "Epoch[35/50], Step [100/469], Reconst Loss: 27591.8945, KL Div: 1779.8352 Total loss 29371.7305\n",
      "Epoch[35/50], Step [200/469], Reconst Loss: 28841.6992, KL Div: 1820.2720 Total loss 30661.9707\n",
      "Epoch[35/50], Step [300/469], Reconst Loss: 29413.9336, KL Div: 1812.2997 Total loss 31226.2324\n",
      "Epoch[35/50], Step [400/469], Reconst Loss: 27318.5430, KL Div: 1828.6753 Total loss 29147.2188\n",
      "Epoch[36/50], Step [100/469], Reconst Loss: 28948.6582, KL Div: 1773.7090 Total loss 30722.3672\n",
      "Epoch[36/50], Step [200/469], Reconst Loss: 28538.9766, KL Div: 1721.2825 Total loss 30260.2598\n",
      "Epoch[36/50], Step [300/469], Reconst Loss: 29014.8477, KL Div: 1817.9678 Total loss 30832.8164\n",
      "Epoch[36/50], Step [400/469], Reconst Loss: 27575.9609, KL Div: 1836.3542 Total loss 29412.3145\n",
      "Epoch[37/50], Step [100/469], Reconst Loss: 27766.6445, KL Div: 1829.8193 Total loss 29596.4648\n",
      "Epoch[37/50], Step [200/469], Reconst Loss: 26901.5078, KL Div: 1840.3083 Total loss 28741.8164\n",
      "Epoch[37/50], Step [300/469], Reconst Loss: 27431.9570, KL Div: 1775.4163 Total loss 29207.3730\n",
      "Epoch[37/50], Step [400/469], Reconst Loss: 26061.4102, KL Div: 1718.1926 Total loss 27779.6035\n",
      "Epoch[38/50], Step [100/469], Reconst Loss: 27390.2969, KL Div: 1868.3860 Total loss 29258.6836\n",
      "Epoch[38/50], Step [200/469], Reconst Loss: 28355.4980, KL Div: 1779.9158 Total loss 30135.4141\n",
      "Epoch[38/50], Step [300/469], Reconst Loss: 28105.0293, KL Div: 1934.2715 Total loss 30039.3008\n",
      "Epoch[38/50], Step [400/469], Reconst Loss: 28098.7461, KL Div: 1781.4655 Total loss 29880.2109\n",
      "Epoch[39/50], Step [100/469], Reconst Loss: 28041.4883, KL Div: 1930.7668 Total loss 29972.2559\n",
      "Epoch[39/50], Step [200/469], Reconst Loss: 26531.8789, KL Div: 1870.4805 Total loss 28402.3594\n",
      "Epoch[39/50], Step [300/469], Reconst Loss: 27923.7988, KL Div: 1853.7778 Total loss 29777.5762\n",
      "Epoch[39/50], Step [400/469], Reconst Loss: 28359.9492, KL Div: 1756.2875 Total loss 30116.2363\n",
      "Epoch[40/50], Step [100/469], Reconst Loss: 28892.8789, KL Div: 1859.8961 Total loss 30752.7754\n",
      "Epoch[40/50], Step [200/469], Reconst Loss: 28536.7656, KL Div: 1814.0173 Total loss 30350.7832\n",
      "Epoch[40/50], Step [300/469], Reconst Loss: 27771.3867, KL Div: 1832.4080 Total loss 29603.7949\n",
      "Epoch[40/50], Step [400/469], Reconst Loss: 26981.8828, KL Div: 1781.6042 Total loss 28763.4863\n",
      "Epoch[41/50], Step [100/469], Reconst Loss: 29641.0586, KL Div: 1846.7952 Total loss 31487.8535\n",
      "Epoch[41/50], Step [200/469], Reconst Loss: 28251.8320, KL Div: 1783.5808 Total loss 30035.4121\n",
      "Epoch[41/50], Step [300/469], Reconst Loss: 26988.0918, KL Div: 1926.8448 Total loss 28914.9375\n",
      "Epoch[41/50], Step [400/469], Reconst Loss: 27637.9141, KL Div: 1829.6404 Total loss 29467.5547\n",
      "Epoch[42/50], Step [100/469], Reconst Loss: 28713.8516, KL Div: 1857.4255 Total loss 30571.2773\n",
      "Epoch[42/50], Step [200/469], Reconst Loss: 26602.2305, KL Div: 1830.3110 Total loss 28432.5410\n",
      "Epoch[42/50], Step [300/469], Reconst Loss: 27316.0156, KL Div: 1771.5085 Total loss 29087.5234\n",
      "Epoch[42/50], Step [400/469], Reconst Loss: 28653.1953, KL Div: 1839.4507 Total loss 30492.6465\n",
      "Epoch[43/50], Step [100/469], Reconst Loss: 27288.2715, KL Div: 1839.0615 Total loss 29127.3320\n",
      "Epoch[43/50], Step [200/469], Reconst Loss: 28080.9258, KL Div: 1855.9214 Total loss 29936.8477\n",
      "Epoch[43/50], Step [300/469], Reconst Loss: 28456.2969, KL Div: 1795.9438 Total loss 30252.2402\n",
      "Epoch[43/50], Step [400/469], Reconst Loss: 26435.4570, KL Div: 1800.9766 Total loss 28236.4336\n"
     ]
    },
    {
     "name": "stdout",
     "output_type": "stream",
     "text": [
      "Epoch[44/50], Step [100/469], Reconst Loss: 28493.7285, KL Div: 1784.1218 Total loss 30277.8496\n",
      "Epoch[44/50], Step [200/469], Reconst Loss: 29849.4512, KL Div: 1815.2299 Total loss 31664.6816\n",
      "Epoch[44/50], Step [300/469], Reconst Loss: 27983.1973, KL Div: 1846.1074 Total loss 29829.3047\n",
      "Epoch[44/50], Step [400/469], Reconst Loss: 26870.1680, KL Div: 1873.7427 Total loss 28743.9102\n",
      "Epoch[45/50], Step [100/469], Reconst Loss: 26972.8242, KL Div: 1755.5872 Total loss 28728.4121\n",
      "Epoch[45/50], Step [200/469], Reconst Loss: 28451.5039, KL Div: 1794.6082 Total loss 30246.1113\n",
      "Epoch[45/50], Step [300/469], Reconst Loss: 27692.6797, KL Div: 1845.3102 Total loss 29537.9902\n",
      "Epoch[45/50], Step [400/469], Reconst Loss: 27789.3008, KL Div: 1817.4885 Total loss 29606.7891\n",
      "Epoch[46/50], Step [100/469], Reconst Loss: 27657.3262, KL Div: 1863.8469 Total loss 29521.1738\n",
      "Epoch[46/50], Step [200/469], Reconst Loss: 28190.8574, KL Div: 1850.8501 Total loss 30041.7070\n",
      "Epoch[46/50], Step [300/469], Reconst Loss: 26940.4141, KL Div: 1885.7434 Total loss 28826.1582\n",
      "Epoch[46/50], Step [400/469], Reconst Loss: 27569.9355, KL Div: 1831.4570 Total loss 29401.3926\n",
      "Epoch[47/50], Step [100/469], Reconst Loss: 27779.3926, KL Div: 1828.5466 Total loss 29607.9395\n",
      "Epoch[47/50], Step [200/469], Reconst Loss: 28677.3223, KL Div: 1793.1711 Total loss 30470.4941\n",
      "Epoch[47/50], Step [300/469], Reconst Loss: 27571.9023, KL Div: 1881.4390 Total loss 29453.3418\n",
      "Epoch[47/50], Step [400/469], Reconst Loss: 28104.1680, KL Div: 1796.0618 Total loss 29900.2305\n",
      "Epoch[48/50], Step [100/469], Reconst Loss: 29704.7305, KL Div: 1831.1860 Total loss 31535.9160\n",
      "Epoch[48/50], Step [200/469], Reconst Loss: 27470.7305, KL Div: 1855.0524 Total loss 29325.7832\n",
      "Epoch[48/50], Step [300/469], Reconst Loss: 26730.2617, KL Div: 1847.6580 Total loss 28577.9199\n",
      "Epoch[48/50], Step [400/469], Reconst Loss: 29574.4844, KL Div: 1787.5713 Total loss 31362.0547\n",
      "Epoch[49/50], Step [100/469], Reconst Loss: 26608.0469, KL Div: 1810.0856 Total loss 28418.1328\n",
      "Epoch[49/50], Step [200/469], Reconst Loss: 28396.0469, KL Div: 1856.7483 Total loss 30252.7949\n",
      "Epoch[49/50], Step [300/469], Reconst Loss: 26576.4180, KL Div: 1827.3485 Total loss 28403.7656\n",
      "Epoch[49/50], Step [400/469], Reconst Loss: 27889.7949, KL Div: 1822.4326 Total loss 29712.2266\n",
      "Epoch[50/50], Step [100/469], Reconst Loss: 28181.4375, KL Div: 1806.9707 Total loss 29988.4082\n",
      "Epoch[50/50], Step [200/469], Reconst Loss: 28725.9238, KL Div: 1908.3297 Total loss 30634.2539\n",
      "Epoch[50/50], Step [300/469], Reconst Loss: 28817.6133, KL Div: 1776.1738 Total loss 30593.7871\n",
      "Epoch[50/50], Step [400/469], Reconst Loss: 27199.4355, KL Div: 1897.8663 Total loss 29097.3027\n"
     ]
    }
   ],
   "source": [
    "train_fashion()"
   ]
  },
  {
   "cell_type": "code",
   "execution_count": null,
   "id": "a2b829a6",
   "metadata": {},
   "outputs": [],
   "source": []
  }
 ],
 "metadata": {
  "kernelspec": {
   "display_name": "Python 3 (ipykernel)",
   "language": "python",
   "name": "python3"
  },
  "language_info": {
   "codemirror_mode": {
    "name": "ipython",
    "version": 3
   },
   "file_extension": ".py",
   "mimetype": "text/x-python",
   "name": "python",
   "nbconvert_exporter": "python",
   "pygments_lexer": "ipython3",
   "version": "3.8.16"
  }
 },
 "nbformat": 4,
 "nbformat_minor": 5
}
